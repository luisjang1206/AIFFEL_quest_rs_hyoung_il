{
 "cells": [
  {
   "cell_type": "code",
   "execution_count": null,
   "id": "c916080c-9d56-465c-ab55-a93db0e3ec43",
   "metadata": {},
   "outputs": [],
   "source": [
    "# 뉴스기사 요약해보기"
   ]
  },
  {
   "cell_type": "code",
   "execution_count": null,
   "id": "c8658c7c-2999-4998-8488-01c83f722cb1",
   "metadata": {},
   "outputs": [],
   "source": [
    "# 미션\n",
    "    # 1. 분석단계, 정제단계, 정규화와 불용어 제거, 데이터셋 분리, 인코딩 과정이 빠짐없이 진행함\n",
    "    # 2. 모델 학습이 진행되면서 train loss와 validation loss가 감소하는 경향을 그래프를 통해 확인하였으나,예측 요약문은 한계를 보임\n",
    "    # 3. 두 요약 결과를 문법완성도 측면과 핵심단어 포함 측면으로 나누어 비교하고 분석 결과를 표로 정리하여 제시"
   ]
  },
  {
   "cell_type": "code",
   "execution_count": null,
   "id": "24aff3ec-602d-4187-89d5-f60ae7f38fa1",
   "metadata": {},
   "outputs": [],
   "source": [
    "# 회고\n",
    "    # 예제에 맞춰 구성하였으나 요약문의 성능이 매우 떨어짐, 성능을 높이기 위한 다양한 시도를 하였으나 한계가 있었음\n",
    "    # 성능을 높이기 위한 시도 \n",
    "        # 1. 빈도수 낮은 데이터 제거 수치 조정 Text(7 > 10), headlines(6>3>9>5)\n",
    "        # 2. 기사에 타국어 확인되어 데이터 로드 직후 인코딩 변경 iso-8859-1 > utf-8 \n",
    "        # 3. 요약문에 반복 단어 출력되어 어텐션 모델에 Coverage Attention 적용 \n",
    "        # 4. 요약문에 반복 단어 출력되어 디코더 시퀀스에 repetition_penalty 등 적용\n",
    "    # 다른 분들의 코드 리뷰를 하면서 어떤 결과가 나왔는지 크로스 체크 필요\n",
    "    "
   ]
  },
  {
   "cell_type": "code",
   "execution_count": 1,
   "id": "6c582a32-7ade-4681-a36a-6e0831472fd4",
   "metadata": {},
   "outputs": [
    {
     "name": "stdout",
     "output_type": "stream",
     "text": [
      "Collecting summa\n",
      "  Downloading summa-1.2.0.tar.gz (54 kB)\n",
      "  Preparing metadata (setup.py) ... \u001b[?25ldone\n",
      "\u001b[?25hRequirement already satisfied: scipy>=0.19 in /opt/conda/lib/python3.12/site-packages (from summa) (1.15.2)\n",
      "Requirement already satisfied: numpy<2.5,>=1.23.5 in /opt/conda/lib/python3.12/site-packages (from scipy>=0.19->summa) (2.2.6)\n",
      "Building wheels for collected packages: summa\n",
      "\u001b[33m  DEPRECATION: Building 'summa' using the legacy setup.py bdist_wheel mechanism, which will be removed in a future version. pip 25.3 will enforce this behaviour change. A possible replacement is to use the standardized build interface by setting the `--use-pep517` option, (possibly combined with `--no-build-isolation`), or adding a `pyproject.toml` file to the source tree of 'summa'. Discussion can be found at https://github.com/pypa/pip/issues/6334\u001b[0m\u001b[33m\n",
      "\u001b[0m  Building wheel for summa (setup.py) ... \u001b[?25ldone\n",
      "\u001b[?25h  Created wheel for summa: filename=summa-1.2.0-py3-none-any.whl size=54441 sha256=6fb8c823c2efcabd75279ad40270db11031a889098835ddce1c92971b2c8fb6b\n",
      "  Stored in directory: /home/jovyan/.cache/pip/wheels/70/26/84/58df5a55ebde6fd802666b6ac0b86909ecd018a2702b89d13c\n",
      "Successfully built summa\n",
      "Installing collected packages: summa\n",
      "Successfully installed summa-1.2.0\n",
      "Collecting nltk\n",
      "  Downloading nltk-3.9.1-py3-none-any.whl.metadata (2.9 kB)\n",
      "Requirement already satisfied: click in /opt/conda/lib/python3.12/site-packages (from nltk) (8.2.1)\n",
      "Requirement already satisfied: joblib in /opt/conda/lib/python3.12/site-packages (from nltk) (1.5.1)\n",
      "Collecting regex>=2021.8.3 (from nltk)\n",
      "  Downloading regex-2025.7.34-cp312-cp312-manylinux2014_x86_64.manylinux_2_17_x86_64.manylinux_2_28_x86_64.whl.metadata (40 kB)\n",
      "Requirement already satisfied: tqdm in /opt/conda/lib/python3.12/site-packages (from nltk) (4.67.1)\n",
      "Downloading nltk-3.9.1-py3-none-any.whl (1.5 MB)\n",
      "\u001b[2K   \u001b[90m━━━━━━━━━━━━━━━━━━━━━━━━━━━━━━━━━━━━━━━━\u001b[0m \u001b[32m1.5/1.5 MB\u001b[0m \u001b[31m6.6 MB/s\u001b[0m eta \u001b[36m0:00:00\u001b[0m-:--:--\u001b[0m\n",
      "\u001b[?25hDownloading regex-2025.7.34-cp312-cp312-manylinux2014_x86_64.manylinux_2_17_x86_64.manylinux_2_28_x86_64.whl (801 kB)\n",
      "\u001b[2K   \u001b[90m━━━━━━━━━━━━━━━━━━━━━━━━━━━━━━━━━━━━━━━━\u001b[0m \u001b[32m801.9/801.9 kB\u001b[0m \u001b[31m23.6 MB/s\u001b[0m eta \u001b[36m0:00:00\u001b[0m\n",
      "\u001b[?25hInstalling collected packages: regex, nltk\n",
      "\u001b[2K   \u001b[90m━━━━━━━━━━━━━━━━━━━━━━━━━━━━━━━━━━━━━━━━\u001b[0m \u001b[32m2/2\u001b[0m [nltk][32m1/2\u001b[0m [nltk]\n",
      "\u001b[1A\u001b[2KSuccessfully installed nltk-3.9.1 regex-2025.7.34\n"
     ]
    }
   ],
   "source": [
    "# 주요 라이브러리 확인 \n",
    "\n",
    "!pip install --upgrade summa\n",
    "!pip install --upgrade nltk #3.9.1"
   ]
  },
  {
   "cell_type": "code",
   "execution_count": 2,
   "id": "5f80177c-ddef-4e4c-a57e-ac3048e5b941",
   "metadata": {},
   "outputs": [
    {
     "name": "stdout",
     "output_type": "stream",
     "text": [
      "3.9.1\n",
      "2.7.1+cu118\n",
      "2.3.0\n",
      "1.2.0\n"
     ]
    }
   ],
   "source": [
    "from importlib.metadata import version\n",
    "import nltk\n",
    "import torch\n",
    "import summa\n",
    "import pandas as pd\n",
    "\n",
    "print(nltk.__version__)\n",
    "print(torch.__version__)\n",
    "print(pd.__version__)\n",
    "print(version('summa'))"
   ]
  },
  {
   "cell_type": "code",
   "execution_count": 3,
   "id": "656d4020-82be-4d6f-a4e2-eb38714d19d3",
   "metadata": {},
   "outputs": [],
   "source": [
    "# Step 1. 데이터 수집하기\n",
    "# 데이터는 아래 링크에 있는 뉴스 기사 데이터(news_headlines_more.csv)를 사용하세요.\n",
    "\n",
    "# sunnysai12345/News_headlines\n",
    "# 아래의 코드로 데이터를 다운로드할 수 있어요."
   ]
  },
  {
   "cell_type": "code",
   "execution_count": 4,
   "id": "5ae28c70-9c8c-4f10-ae73-8112b4dc2c47",
   "metadata": {},
   "outputs": [],
   "source": [
    "import urllib.request\n",
    "# urllib.request.urlretrieve(\"https://raw.githubusercontent.com/sunnysai12345/News_headlines/master/news_headlines_more.csv\", filename=\"news_headlines_more.csv\")\n",
    "#data = pd.read_csv('news_headlines_more.csv', encoding='iso-8859-1')"
   ]
  },
  {
   "cell_type": "code",
   "execution_count": 5,
   "id": "fe84cadb-750d-4f6a-99f2-1c6d34f2b46e",
   "metadata": {},
   "outputs": [
    {
     "name": "stdout",
     "output_type": "stream",
     "text": [
      "/home/jovyan/work/workplace/AIFFEL_quest_rs/Exploration/Quest06\n"
     ]
    }
   ],
   "source": [
    "import os\n",
    "print(os.getcwd()) # 현재 작업 디렉터리 출력"
   ]
  },
  {
   "cell_type": "code",
   "execution_count": 6,
   "id": "7b9ab6c3-68ae-47bb-ac0a-a9da06c61501",
   "metadata": {},
   "outputs": [],
   "source": [
    "import pandas as pd\n",
    "\n",
    "# 올바른 파일 이름으로 수정\n",
    "data = pd.read_csv('news_summary_more.csv', encoding= 'utf-8') # 'iso-8859-1') 보편적인 utf-8로 변경 "
   ]
  },
  {
   "cell_type": "code",
   "execution_count": 7,
   "id": "1a900273-b947-4a88-8775-7c5af83fba68",
   "metadata": {},
   "outputs": [
    {
     "data": {
      "text/html": [
       "<div>\n",
       "<style scoped>\n",
       "    .dataframe tbody tr th:only-of-type {\n",
       "        vertical-align: middle;\n",
       "    }\n",
       "\n",
       "    .dataframe tbody tr th {\n",
       "        vertical-align: top;\n",
       "    }\n",
       "\n",
       "    .dataframe thead th {\n",
       "        text-align: right;\n",
       "    }\n",
       "</style>\n",
       "<table border=\"1\" class=\"dataframe\">\n",
       "  <thead>\n",
       "    <tr style=\"text-align: right;\">\n",
       "      <th></th>\n",
       "      <th>headlines</th>\n",
       "      <th>text</th>\n",
       "    </tr>\n",
       "  </thead>\n",
       "  <tbody>\n",
       "    <tr>\n",
       "      <th>37899</th>\n",
       "      <td>Man sneaks into hospital room of ex-Pak PM Sha...</td>\n",
       "      <td>A man managed to enter the hospital room of fo...</td>\n",
       "    </tr>\n",
       "    <tr>\n",
       "      <th>48431</th>\n",
       "      <td>Serena Williams to make comeback at Fed Cup</td>\n",
       "      <td>Former world number one Serena Williams, who r...</td>\n",
       "    </tr>\n",
       "    <tr>\n",
       "      <th>5733</th>\n",
       "      <td>I'm glad I was of some help and service: Tanus...</td>\n",
       "      <td>Tanushree Dutta, who started #MeToo movement i...</td>\n",
       "    </tr>\n",
       "    <tr>\n",
       "      <th>89779</th>\n",
       "      <td>Google Maps glitch leads hundreds of tourists ...</td>\n",
       "      <td>A glitch in Google Maps recently led hundreds ...</td>\n",
       "    </tr>\n",
       "    <tr>\n",
       "      <th>57020</th>\n",
       "      <td>World's biggest floating solar plant goes onli...</td>\n",
       "      <td>China-based firm Three Gorges Group has starte...</td>\n",
       "    </tr>\n",
       "    <tr>\n",
       "      <th>88695</th>\n",
       "      <td>Andhra amends law to appoint PV Sindhu as elit...</td>\n",
       "      <td>The Andhra Pradesh Assembly on Tuesday passed ...</td>\n",
       "    </tr>\n",
       "    <tr>\n",
       "      <th>49618</th>\n",
       "      <td>South Korea raises 'illegal' North Korean flag...</td>\n",
       "      <td>North Korea's flag was raised in South Korea o...</td>\n",
       "    </tr>\n",
       "    <tr>\n",
       "      <th>98141</th>\n",
       "      <td>'Baahubali 2' trailer gets 5 crore views in 24...</td>\n",
       "      <td>The trailer of SS Rajamouli directorial 'Baahu...</td>\n",
       "    </tr>\n",
       "    <tr>\n",
       "      <th>47224</th>\n",
       "      <td>Dhoni sets record for most catches by a wicket...</td>\n",
       "      <td>Former India captain MS Dhoni has set the reco...</td>\n",
       "    </tr>\n",
       "    <tr>\n",
       "      <th>33158</th>\n",
       "      <td>Chinese govt admits it collected deleted WeCha...</td>\n",
       "      <td>An anti-corruption commission in China's Hefei...</td>\n",
       "    </tr>\n",
       "  </tbody>\n",
       "</table>\n",
       "</div>"
      ],
      "text/plain": [
       "                                               headlines  \\\n",
       "37899  Man sneaks into hospital room of ex-Pak PM Sha...   \n",
       "48431        Serena Williams to make comeback at Fed Cup   \n",
       "5733   I'm glad I was of some help and service: Tanus...   \n",
       "89779  Google Maps glitch leads hundreds of tourists ...   \n",
       "57020  World's biggest floating solar plant goes onli...   \n",
       "88695  Andhra amends law to appoint PV Sindhu as elit...   \n",
       "49618  South Korea raises 'illegal' North Korean flag...   \n",
       "98141  'Baahubali 2' trailer gets 5 crore views in 24...   \n",
       "47224  Dhoni sets record for most catches by a wicket...   \n",
       "33158  Chinese govt admits it collected deleted WeCha...   \n",
       "\n",
       "                                                    text  \n",
       "37899  A man managed to enter the hospital room of fo...  \n",
       "48431  Former world number one Serena Williams, who r...  \n",
       "5733   Tanushree Dutta, who started #MeToo movement i...  \n",
       "89779  A glitch in Google Maps recently led hundreds ...  \n",
       "57020  China-based firm Three Gorges Group has starte...  \n",
       "88695  The Andhra Pradesh Assembly on Tuesday passed ...  \n",
       "49618  North Korea's flag was raised in South Korea o...  \n",
       "98141  The trailer of SS Rajamouli directorial 'Baahu...  \n",
       "47224  Former India captain MS Dhoni has set the reco...  \n",
       "33158  An anti-corruption commission in China's Hefei...  "
      ]
     },
     "execution_count": 7,
     "metadata": {},
     "output_type": "execute_result"
    }
   ],
   "source": [
    "data.sample(10)"
   ]
  },
  {
   "cell_type": "code",
   "execution_count": 8,
   "id": "38f51ac1-7988-4fd9-945b-880e330f18b5",
   "metadata": {},
   "outputs": [],
   "source": [
    "# 이 데이터는 기사의 본문에 해당되는 text와 headlines 두 가지 열로 구성되어져 있다.\n",
    "\n",
    "# 추상적 요약을 하는 경우에는 text를 본문, \n",
    "# headlines를 이미 요약된 데이터로 삼아서 모델을 학습할 수 있다. \n",
    "# 추출적 요약을 하는 경우에는 오직 text열만을 사용한다."
   ]
  },
  {
   "cell_type": "code",
   "execution_count": 9,
   "id": "36a05fb2-0266-46e2-bdc1-900662427664",
   "metadata": {},
   "outputs": [],
   "source": [
    "#Step 2. 데이터 전처리하기 (추상적 요약)\n",
    "\n",
    "# 분석단계 \n",
    "# 정제단계\n",
    "# 정규화와 불용어 제거 \n",
    "    #불용어 제거를 선택한다면 상대적으로 길이가 짧은 요약 데이터에 대해서도 불용어를 제거하는 것이 좋을지 고민\n",
    "# 데이터셋 분리 \n",
    "# 인코딩 과정\n"
   ]
  },
  {
   "cell_type": "code",
   "execution_count": 10,
   "id": "109adacd-26c8-4e07-9ea0-97d31d7df029",
   "metadata": {},
   "outputs": [
    {
     "name": "stdout",
     "output_type": "stream",
     "text": [
      "전체 샘플수 : 98401\n",
      "text 열에서 중복을 배제한 유일한 샘플의 수 : 98360\n",
      "headlines 열에서 중복을 배제한 유일한 샘플의 수 : 98280\n"
     ]
    }
   ],
   "source": [
    "#분석\n",
    "\n",
    "#데이터 갯수 확인\n",
    "print('전체 샘플수 :', (len(data)))\n",
    "\n",
    "#데이터 중복 유무 확인\n",
    "print('text 열에서 중복을 배제한 유일한 샘플의 수 :', data['text'].nunique())\n",
    "print('headlines 열에서 중복을 배제한 유일한 샘플의 수 :', data['headlines'].nunique())\n"
   ]
  },
  {
   "cell_type": "code",
   "execution_count": 11,
   "id": "92da81bd-7b73-47ca-9d2e-bf25a31f89e1",
   "metadata": {},
   "outputs": [
    {
     "name": "stdout",
     "output_type": "stream",
     "text": [
      "전체 샘플수 : 98360\n"
     ]
    }
   ],
   "source": [
    "#정제\n",
    "\n",
    "#중복 제거 \n",
    "# inplace=True 를 설정하면 DataFrame 타입 값을 return 하지 않고 data 내부를 직접적으로 바꿉니다\n",
    "data.drop_duplicates(subset = ['text'], inplace=True)\n",
    "\n",
    "print('전체 샘플수 :', (len(data)))"
   ]
  },
  {
   "cell_type": "code",
   "execution_count": 12,
   "id": "726bbc38-4797-4221-992f-1f57128670cf",
   "metadata": {},
   "outputs": [
    {
     "name": "stdout",
     "output_type": "stream",
     "text": [
      "headlines    0\n",
      "text         0\n",
      "dtype: int64\n"
     ]
    }
   ],
   "source": [
    "#nul 값확인\n",
    "print(data.isnull().sum())\n",
    " #확인 결과 nul값 없음"
   ]
  },
  {
   "cell_type": "code",
   "execution_count": 13,
   "id": "29d774b3-db8a-4218-b70a-86217974191e",
   "metadata": {},
   "outputs": [
    {
     "name": "stdout",
     "output_type": "stream",
     "text": [
      "정규화 사전의 수:  120\n"
     ]
    }
   ],
   "source": [
    "# 정규화를 위한 사전 구성\n",
    "contractions = {\"ain't\": \"is not\", \"aren't\": \"are not\",\"can't\": \"cannot\", \"'cause\": \"because\", \"could've\": \"could have\", \"couldn't\": \"could not\",\n",
    "                           \"didn't\": \"did not\",  \"doesn't\": \"does not\", \"don't\": \"do not\", \"hadn't\": \"had not\", \"hasn't\": \"has not\", \"haven't\": \"have not\",\n",
    "                           \"he'd\": \"he would\",\"he'll\": \"he will\", \"he's\": \"he is\", \"how'd\": \"how did\", \"how'd'y\": \"how do you\", \"how'll\": \"how will\", \"how's\": \"how is\",\n",
    "                           \"I'd\": \"I would\", \"I'd've\": \"I would have\", \"I'll\": \"I will\", \"I'll've\": \"I will have\",\"I'm\": \"I am\", \"I've\": \"I have\", \"i'd\": \"i would\",\n",
    "                           \"i'd've\": \"i would have\", \"i'll\": \"i will\",  \"i'll've\": \"i will have\",\"i'm\": \"i am\", \"i've\": \"i have\", \"isn't\": \"is not\", \"it'd\": \"it would\",\n",
    "                           \"it'd've\": \"it would have\", \"it'll\": \"it will\", \"it'll've\": \"it will have\",\"it's\": \"it is\", \"let's\": \"let us\", \"ma'am\": \"madam\",\n",
    "                           \"mayn't\": \"may not\", \"might've\": \"might have\",\"mightn't\": \"might not\",\"mightn't've\": \"might not have\", \"must've\": \"must have\",\n",
    "                           \"mustn't\": \"must not\", \"mustn't've\": \"must not have\", \"needn't\": \"need not\", \"needn't've\": \"need not have\",\"o'clock\": \"of the clock\",\n",
    "                           \"oughtn't\": \"ought not\", \"oughtn't've\": \"ought not have\", \"shan't\": \"shall not\", \"sha'n't\": \"shall not\", \"shan't've\": \"shall not have\",\n",
    "                           \"she'd\": \"she would\", \"she'd've\": \"she would have\", \"she'll\": \"she will\", \"she'll've\": \"she will have\", \"she's\": \"she is\",\n",
    "                           \"should've\": \"should have\", \"shouldn't\": \"should not\", \"shouldn't've\": \"should not have\", \"so've\": \"so have\",\"so's\": \"so as\",\n",
    "                           \"this's\": \"this is\",\"that'd\": \"that would\", \"that'd've\": \"that would have\", \"that's\": \"that is\", \"there'd\": \"there would\",\n",
    "                           \"there'd've\": \"there would have\", \"there's\": \"there is\", \"here's\": \"here is\",\"they'd\": \"they would\", \"they'd've\": \"they would have\",\n",
    "                           \"they'll\": \"they will\", \"they'll've\": \"they will have\", \"they're\": \"they are\", \"they've\": \"they have\", \"to've\": \"to have\",\n",
    "                           \"wasn't\": \"was not\", \"we'd\": \"we would\", \"we'd've\": \"we would have\", \"we'll\": \"we will\", \"we'll've\": \"we will have\", \"we're\": \"we are\",\n",
    "                           \"we've\": \"we have\", \"weren't\": \"were not\", \"what'll\": \"what will\", \"what'll've\": \"what will have\", \"what're\": \"what are\",\n",
    "                           \"what's\": \"what is\", \"what've\": \"what have\", \"when's\": \"when is\", \"when've\": \"when have\", \"where'd\": \"where did\", \"where's\": \"where is\",\n",
    "                           \"where've\": \"where have\", \"who'll\": \"who will\", \"who'll've\": \"who will have\", \"who's\": \"who is\", \"who've\": \"who have\",\n",
    "                           \"why's\": \"why is\", \"why've\": \"why have\", \"will've\": \"will have\", \"won't\": \"will not\", \"won't've\": \"will not have\",\n",
    "                           \"would've\": \"would have\", \"wouldn't\": \"would not\", \"wouldn't've\": \"would not have\", \"y'all\": \"you all\",\n",
    "                           \"y'all'd\": \"you all would\",\"y'all'd've\": \"you all would have\",\"y'all're\": \"you all are\",\"y'all've\": \"you all have\",\n",
    "                           \"you'd\": \"you would\", \"you'd've\": \"you would have\", \"you'll\": \"you will\", \"you'll've\": \"you will have\",\n",
    "                           \"you're\": \"you are\", \"you've\": \"you have\"}\n",
    "\n",
    "print(\"정규화 사전의 수: \", len(contractions))"
   ]
  },
  {
   "cell_type": "code",
   "execution_count": 14,
   "id": "a2ea9700-6e18-4cd8-a48d-9d6459b8746a",
   "metadata": {},
   "outputs": [
    {
     "name": "stdout",
     "output_type": "stream",
     "text": [
      "불용어 개수 : 198\n",
      "['a', 'about', 'above', 'after', 'again', 'against', 'ain', 'all', 'am', 'an', 'and', 'any', 'are', 'aren', \"aren't\", 'as', 'at', 'be', 'because', 'been', 'before', 'being', 'below', 'between', 'both', 'but', 'by', 'can', 'couldn', \"couldn't\", 'd', 'did', 'didn', \"didn't\", 'do', 'does', 'doesn', \"doesn't\", 'doing', 'don', \"don't\", 'down', 'during', 'each', 'few', 'for', 'from', 'further', 'had', 'hadn', \"hadn't\", 'has', 'hasn', \"hasn't\", 'have', 'haven', \"haven't\", 'having', 'he', \"he'd\", \"he'll\", 'her', 'here', 'hers', 'herself', \"he's\", 'him', 'himself', 'his', 'how', 'i', \"i'd\", 'if', \"i'll\", \"i'm\", 'in', 'into', 'is', 'isn', \"isn't\", 'it', \"it'd\", \"it'll\", \"it's\", 'its', 'itself', \"i've\", 'just', 'll', 'm', 'ma', 'me', 'mightn', \"mightn't\", 'more', 'most', 'mustn', \"mustn't\", 'my', 'myself', 'needn', \"needn't\", 'no', 'nor', 'not', 'now', 'o', 'of', 'off', 'on', 'once', 'only', 'or', 'other', 'our', 'ours', 'ourselves', 'out', 'over', 'own', 're', 's', 'same', 'shan', \"shan't\", 'she', \"she'd\", \"she'll\", \"she's\", 'should', 'shouldn', \"shouldn't\", \"should've\", 'so', 'some', 'such', 't', 'than', 'that', \"that'll\", 'the', 'their', 'theirs', 'them', 'themselves', 'then', 'there', 'these', 'they', \"they'd\", \"they'll\", \"they're\", \"they've\", 'this', 'those', 'through', 'to', 'too', 'under', 'until', 'up', 've', 'very', 'was', 'wasn', \"wasn't\", 'we', \"we'd\", \"we'll\", \"we're\", 'were', 'weren', \"weren't\", \"we've\", 'what', 'when', 'where', 'which', 'while', 'who', 'whom', 'why', 'will', 'with', 'won', \"won't\", 'wouldn', \"wouldn't\", 'y', 'you', \"you'd\", \"you'll\", 'your', \"you're\", 'yours', 'yourself', 'yourselves', \"you've\"]\n"
     ]
    },
    {
     "name": "stderr",
     "output_type": "stream",
     "text": [
      "[nltk_data] Downloading package stopwords to /home/jovyan/nltk_data...\n",
      "[nltk_data]   Package stopwords is already up-to-date!\n"
     ]
    }
   ],
   "source": [
    "import nltk\n",
    "nltk.download('stopwords')\n",
    "from nltk.corpus import stopwords\n",
    "\n",
    "print('불용어 개수 :', len(stopwords.words('english') ))\n",
    "print(stopwords.words('english'))"
   ]
  },
  {
   "cell_type": "code",
   "execution_count": 15,
   "id": "6669e6ef-f902-46fd-a1ce-26b3a5b2fd41",
   "metadata": {},
   "outputs": [],
   "source": [
    "import re\n",
    "from bs4 import BeautifulSoup\n",
    "from nltk.corpus import stopwords"
   ]
  },
  {
   "cell_type": "code",
   "execution_count": 16,
   "id": "a509fb5c-989d-46f0-a324-6a2e22616b9c",
   "metadata": {},
   "outputs": [
    {
     "name": "stdout",
     "output_type": "stream",
     "text": [
      "=3\n"
     ]
    }
   ],
   "source": [
    "# 데이터 전처리 함수 준비\n",
    "def preprocess_sentence(sentence, remove_stopwords=True):\n",
    "    sentence = sentence.lower() # 텍스트 소문자화\n",
    "    sentence = BeautifulSoup(sentence, \"lxml\").text # <br />, <a href = ...> 등의 html 태그 제거\n",
    "    sentence = re.sub(r'\\([^)]*\\)', '', sentence) # 괄호로 닫힌 문자열 (...) 제거 Ex) my husband (and myself!) for => my husband for\n",
    "    sentence = re.sub('\"','', sentence) # 쌍따옴표 \" 제거\n",
    "    sentence = ' '.join([contractions[t] if t in contractions else t for t in sentence.split(\" \")]) # 약어 정규화\n",
    "    sentence = re.sub(r\"'s\\b\",\"\", sentence) # 소유격 제거. Ex) roland's -> roland\n",
    "    sentence = re.sub(\"[^a-zA-Z]\", \" \", sentence) # 영어 외 문자(숫자, 특수문자 등) 공백으로 변환\n",
    "    sentence = re.sub('[m]{2,}', 'mm', sentence) # m이 3개 이상이면 2개로 변경. Ex) ummmmmmm yeah -> umm yeah\n",
    "\n",
    "    # 불용어 제거 (text)\n",
    "    if remove_stopwords:\n",
    "        tokens = ' '.join(word for word in sentence.split() if not word in stopwords.words('english') if len(word) > 1)\n",
    "    # 불용어 미제거 (길이가 짧은 headlines에서는 의미가 왜곡될 수 있으니 불용어 미제거 )\n",
    "    else:\n",
    "        tokens = ' '.join(word for word in sentence.split() if len(word) > 1)\n",
    "    return tokens\n",
    "print('=3')"
   ]
  },
  {
   "cell_type": "code",
   "execution_count": 17,
   "id": "cf454b09-d269-48f2-b4ca-6f595d90a3e4",
   "metadata": {},
   "outputs": [
    {
     "name": "stdout",
     "output_type": "stream",
     "text": [
      "Requirement already satisfied: lxml in /opt/conda/lib/python3.12/site-packages (6.0.0)\n"
     ]
    }
   ],
   "source": [
    "!pip install lxml"
   ]
  },
  {
   "cell_type": "code",
   "execution_count": 18,
   "id": "29a5ed4f-b5f6-4202-ac1f-32363f392ecd",
   "metadata": {},
   "outputs": [
    {
     "name": "stdout",
     "output_type": "stream",
     "text": [
      "text:  everything bought great infact ordered twice third ordered wasfor mother father\n",
      "headlines: great way to start the day\n"
     ]
    }
   ],
   "source": [
    "# 전처리 결과 샘플링 확\n",
    "\n",
    "temp_text = 'Everything I bought was great, infact I ordered twice and the third ordered was<br />for my mother and father.'\n",
    "temp_headlines = 'Great way to start (or finish) the day!!!'\n",
    "\n",
    "print(\"text: \", preprocess_sentence(temp_text))\n",
    "print(\"headlines:\", preprocess_sentence(temp_headlines, False))  # 불용어를 제거하지 않습니다."
   ]
  },
  {
   "cell_type": "code",
   "execution_count": 19,
   "id": "e5914649-6a64-4596-b0bd-660366cf7dae",
   "metadata": {},
   "outputs": [],
   "source": [
    "# 결과를 보면 기본적으로 모든 알파벳이 소문자로 변환되고, <br />과 같은 html 태그가 제거되었다. \n",
    "# (or finish)와 같은 괄호로 묶였던 단어 시퀀스가 제거된 것도 확인할 수 있다. \n",
    "# 또한 특수문자가 제거되면서 영어만 남았다.\n",
    "\n",
    "# 이제 함수가 잘 작동하는 것을 확인했으니, 훈련 데이터 전체에 대해서 전처리를 수행해볼게요. \n",
    "# 이때, text의 경우에는 불용어를 제거하고, headlines의 경우에는 불용어를 제거하지 않을 것이므로 따로 호출해서 진행함. \n",
    "# 먼저 text를 전처리하고, 결과를 확인하기 위해서 상위 5개의 줄을 출력해볼게요."
   ]
  },
  {
   "cell_type": "code",
   "execution_count": 20,
   "id": "d8fdaa74-5b31-4f4a-b649-0d0e429114f1",
   "metadata": {},
   "outputs": [
    {
     "name": "stdout",
     "output_type": "stream",
     "text": [
      "text 전처리 후 결과:  ['saurav kant alumnus upgrad iiit pg program machine learning artificial intelligence sr systems engineer infosys almost years work experience program upgrad degree career support helped transition data scientist tech mahindra salary hike upgrad online power learning powered lakh careers', 'kunal shah credit card bill payment platform cred gave users chance win free food swiggy one year pranav kaushik delhi techie bagged reward spending cred coins users get one cred coin per rupee bill paid used avail rewards brands like ixigo bookmyshow ubereats cult fit', 'new zealand defeated india wickets fourth odi hamilton thursday win first match five match odi series india lost international match rohit sharma captaincy consecutive victories dating back march match witnessed india getting seventh lowest total odi cricket history', 'aegon life iterm insurance plan customers enjoy tax benefits premiums paid save taxes plan provides life cover age years also customers options insure critical illnesses disability accidental death benefit rider life cover age years', 'speaking sexual harassment allegations rajkumar hirani sonam kapoor said known hirani many years true metoo movement get derailed metoo movement always believe woman case need reserve judgment added hirani accused assistant worked sanju']\n"
     ]
    }
   ],
   "source": [
    "# 원문(text)데이터 전처리\n",
    "\n",
    "# 'clean_text'라는 이름의 빈 리스트를 생성합니다.\n",
    "clean_text = []\n",
    "\n",
    "# 'data' 데이터프레임의 'text' 열에 있는 모든 문장에 대해 반복 작업을 수행합니다.\n",
    "for sentence in data['text']:\n",
    "    # 각 문장을 'preprocess_sentence()' 함수에 넣어 전처리하고, 그 결과를 'clean_text' 리스트에 추가합니다.\n",
    "    clean_text.append(preprocess_sentence(sentence))\n",
    "\n",
    "# 전처리 작업이 완료된 'clean_text' 리스트의 첫 5개 항목을 출력합니다.\n",
    "print(\"text 전처리 후 결과: \", clean_text[:5])"
   ]
  },
  {
   "cell_type": "code",
   "execution_count": 21,
   "id": "e1cf2319-e4d7-423b-9193-7027b74216fc",
   "metadata": {},
   "outputs": [
    {
     "name": "stdout",
     "output_type": "stream",
     "text": [
      "headlines 전처리 후 결과:  ['upgrad learner switches to career in ml al with salary hike', 'delhi techie wins free food from swiggy for one year on cred', 'new zealand end rohit sharma led india match winning streak', 'aegon life iterm insurance plan helps customers save tax', 'have known hirani for yrs what if metoo claims are not true sonam']\n"
     ]
    }
   ],
   "source": [
    "# 요약문(headlines) 데이터 전처리(불용어 미제거)\n",
    "\n",
    "# 전체 headlines 데이터에 대한 전처리 : 5분 이상 시간이 걸릴 수 있습니다.\n",
    "clean_headlines = []\n",
    "\n",
    "for sentence in data['headlines']:\n",
    "    clean_headlines.append(preprocess_sentence(sentence, remove_stopwords=False))\n",
    "\n",
    "print(\"headlines 전처리 후 결과: \", clean_headlines[:5])"
   ]
  },
  {
   "cell_type": "code",
   "execution_count": 22,
   "id": "b2d46fc8-4082-4458-a179-768c2cfd2e42",
   "metadata": {},
   "outputs": [
    {
     "data": {
      "text/plain": [
       "headlines    0\n",
       "text         0\n",
       "dtype: int64"
      ]
     },
     "execution_count": 22,
     "metadata": {},
     "output_type": "execute_result"
    }
   ],
   "source": [
    "# nul 값확인\n",
    "\n",
    "data.isnull().sum()"
   ]
  },
  {
   "cell_type": "code",
   "execution_count": 23,
   "id": "157402f4-3d22-4eff-b302-101f2d572446",
   "metadata": {},
   "outputs": [],
   "source": [
    "#데이터셋 분리\n",
    "\n",
    "    # 훈련데이터와 테스트데이터 나누기\n",
    "        # 학습을 진행하기 위해서는 학습에 사용할 데이터의 크기를 결정하고, 문장의 시작과 끝을 표시해 줌.\n",
    "    \n",
    "    # 샘플의 최대 길이 정하기\n",
    "        # text와 headlines의 최소, 최대, 평균 길이를 구하고 또한 길이 분포를 시각화."
   ]
  },
  {
   "cell_type": "code",
   "execution_count": 24,
   "id": "2096a0f6-4621-46b6-99d2-a2ff2469c208",
   "metadata": {},
   "outputs": [
    {
     "name": "stdout",
     "output_type": "stream",
     "text": [
      "텍스트의 최소 길이 : 1\n",
      "텍스트의 최대 길이 : 66\n",
      "텍스트의 평균 길이 : 58.23730174867833\n",
      "요약의 최소 길이 : 1\n",
      "요약의 최대 길이 : 18\n",
      "요약의 평균 길이 : 9.553629524196827\n"
     ]
    },
    {
     "data": {
      "image/png": "[encoded data removed]",
      "text/plain": [
       "<Figure size 640x480 with 2 Axes>"
      ]
     },
     "metadata": {},
     "output_type": "display_data"
    },
    {
     "data": {
      "image/png": "[encoded data removed]",
      "text/plain": [
       "<Figure size 640x480 with 1 Axes>"
      ]
     },
     "metadata": {},
     "output_type": "display_data"
    },
    {
     "data": {
      "image/png": "[encoded data removed]",
      "text/plain": [
       "<Figure size 640x480 with 1 Axes>"
      ]
     },
     "metadata": {},
     "output_type": "display_data"
    }
   ],
   "source": [
    "# 길이 분포 출력\n",
    "import matplotlib.pyplot as plt\n",
    "import numpy as np\n",
    "\n",
    "text_len = [len(s.split()) for s in data['text']]\n",
    "headlines_len = [len(s.split()) for s in data['headlines']]\n",
    "\n",
    "print('텍스트의 최소 길이 : {}'.format(np.min(text_len)))\n",
    "print('텍스트의 최대 길이 : {}'.format(np.max(text_len)))\n",
    "print('텍스트의 평균 길이 : {}'.format(np.mean(text_len)))\n",
    "print('요약의 최소 길이 : {}'.format(np.min(headlines_len)))\n",
    "print('요약의 최대 길이 : {}'.format(np.max(headlines_len)))\n",
    "print('요약의 평균 길이 : {}'.format(np.mean(headlines_len)))\n",
    "\n",
    "plt.subplot(1,2,1)\n",
    "plt.boxplot(text_len)\n",
    "plt.title('text')\n",
    "plt.subplot(1,2,2)\n",
    "plt.boxplot(headlines_len)\n",
    "plt.title('headlines')\n",
    "plt.tight_layout()\n",
    "plt.show()\n",
    "\n",
    "plt.title('text')\n",
    "plt.hist(text_len, bins = 40)\n",
    "plt.xlabel('length of samples')\n",
    "plt.ylabel('number of samples')\n",
    "plt.show()\n",
    "\n",
    "plt.title('headlines')\n",
    "plt.hist(headlines_len, bins = 40)\n",
    "plt.xlabel('length of samples')\n",
    "plt.ylabel('number of samples')\n",
    "plt.show()"
   ]
  },
  {
   "cell_type": "code",
   "execution_count": 25,
   "id": "052f9ea3-fdf1-4697-83ad-81dd2e55618f",
   "metadata": {},
   "outputs": [],
   "source": [
    "# 텍스트의 최소 길이 : 1\n",
    "# 텍스트의 최대 길이 : 91\n",
    "# 텍스트의 평균 길이 : 58.23813542090281\n",
    "# 요약의 최소 길이 : 1\n",
    "# 요약의 최대 길이 : 18\n",
    "# 요약의 평균 길이 : 9.553660024400163\n",
    "\n",
    "# text\n",
    "# 최소 길이 1 최대 길이는 91 평균길이는 58.23로 차이가 비교적 크지 않은 듯.\n",
    "# 그러나 박스 플롯 그래프로 보면 대분이 50~60사이 분포된 것으로 보인다.\n",
    "# 70을 넘는 값과 20 미만의 값은 이상치(outlier)로 판단할 수 있음.\n",
    "\n",
    "# headlines\n",
    "# 최소 길이 1 최대 길이는 18 평균길이는 9.58.\n",
    "# 박스플롯은 text에 비해서는 분포가 안정적이지만 대부분의 데이터가 9~ 10단어사이에 분포하고 있다.\n",
    "# 길이가 5미만이거나 12이상인 값들은 이상치로 판단할 수 있음.\n"
   ]
  },
  {
   "cell_type": "code",
   "execution_count": 26,
   "id": "5c9595a6-e617-47ea-bf80-a1df602f3aa0",
   "metadata": {},
   "outputs": [
    {
     "name": "stdout",
     "output_type": "stream",
     "text": [
      "text IQR: 3.0\n",
      "Lower bound for text outliers: 52.5\n",
      "Upper bound for text outliers: 64.5\n",
      "Number of text outliers: 3633\n",
      "Number of remove text outliers: 1\n",
      "headlines_IQR: 1.0\n",
      "Lower bound for headlines_outliers: 7.5\n",
      "Upper bound for headlines_outliers: 11.5\n",
      "Number of headlines outliers: 15630\n",
      "Number of remove headlines outliers: 1\n"
     ]
    }
   ],
   "source": [
    "#text IQR(사분위 범위)과 이상치 개수\n",
    "text_Q1 = np.quantile(text_len, 0.25)\n",
    "text_Q3 = np.quantile(text_len, 0.75)\n",
    "text_IQR = text_Q3 - text_Q1\n",
    "\n",
    "text_lower_bound = text_Q1 - 1.5 * text_IQR\n",
    "text_upper_bound = text_Q3 + 1.5 * text_IQR\n",
    "\n",
    "print(f\"text IQR: {text_IQR}\")\n",
    "print(f\"Lower bound for text outliers: {text_lower_bound}\")\n",
    "print(f\"Upper bound for text outliers: {text_upper_bound}\")\n",
    "\n",
    "# 특이값 수 확인\n",
    "text_outliers = [length for length in text_len if length < text_lower_bound or length > text_upper_bound]\n",
    "print(f\"Number of text outliers: {len(text_outliers)}\")\n",
    "\n",
    "# 임의의 제거 기준\n",
    "text_max_len = 100\n",
    "text_min_len = 20\n",
    "\n",
    "# 제거 대상 수 확인\n",
    "remove_text_outliers = [length for length in text_len if length < text_min_len or length > text_max_len]\n",
    "print(f\"Number of remove text outliers: {len(remove_text_outliers)}\")\n",
    "\n",
    "\n",
    "#headlines IQR(사분위 범위)과 이상치 개수\n",
    "\n",
    "headlines_Q1 = np.quantile(headlines_len, 0.25)\n",
    "headlines_Q3 = np.quantile(headlines_len, 0.75)\n",
    "headlines_IQR = headlines_Q3 - headlines_Q1\n",
    "\n",
    "headlines_lower_bound = headlines_Q1 - 1.5 * headlines_IQR\n",
    "headlines_upper_bound = headlines_Q3 + 1.5 * headlines_IQR\n",
    "\n",
    "print(f\"headlines_IQR: {headlines_IQR}\")\n",
    "print(f\"Lower bound for headlines_outliers: {headlines_lower_bound}\")\n",
    "print(f\"Upper bound for headlines_outliers: {headlines_upper_bound}\")\n",
    "\n",
    "# 특이값 확인\n",
    "headlines_outliers = [length for length in headlines_len if length < headlines_lower_bound or length > headlines_upper_bound]\n",
    "print(f\"Number of headlines outliers: {len(headlines_outliers)}\")\n",
    "\n",
    "# 임의의 제거 기준\n",
    "headlines_max_len = 18\n",
    "headlines_min_len = 2\n",
    "\n",
    "# 제거 대상 수 확인\n",
    "remove_headlines_outliers = [length for length in headlines_len if length < headlines_min_len or length > headlines_max_len]\n",
    "print(f\"Number of remove headlines outliers: {len(remove_headlines_outliers)}\")"
   ]
  },
  {
   "cell_type": "code",
   "execution_count": 27,
   "id": "fc1b3744-d3c0-48fb-94b9-64ef9f85a913",
   "metadata": {},
   "outputs": [],
   "source": [
    "#text \n",
    " #IQR: 3.0: 데이터의 중간 50%가 3.0이라는 매우 좁은 범위(단어 3개정도의 길이 차이가 있을 뿐) 내에 분포하고 있음.\n",
    " #이는 데이터가 중앙값을 중심으로 매우 밀집되어 있음을 나타냄.\n",
    " #데이터 이상치 표준 규칙에 의한 수치 52.5<x<64.5를 참고하였으나 대부분이 중앙에 집중된 데이터 분포로 보수적으로 제거 기준을 잡음\n",
    " #이상치 제거 기준을 40이하 70이상의 길이로 잡았을 때 제거되는 수는 단지 3개\n",
    "\n",
    "#headlines\n",
    " #데이터 이상치 표준 규칙에 의한 수치 7.5<x<11.5를 참고하였으나 대부분이 중앙에 집중된 데이터 분포로 보수적으로 제거 기준을 잡음\n",
    " #이상치 제거 기준을 5이하 12이상의 길이로 잡았을 때 제거되는 수는 단지 2295개"
   ]
  },
  {
   "cell_type": "code",
   "execution_count": 28,
   "id": "e7f79169-b39b-4739-b2df-ca418e580fc6",
   "metadata": {},
   "outputs": [
    {
     "name": "stdout",
     "output_type": "stream",
     "text": [
      "전체 샘플수 : 98359\n"
     ]
    }
   ],
   "source": [
    "#이상치 제거 \n",
    "\n",
    "# 'data' 데이터프레임에서 'text' 열의 단어 수가 'text_min_len'보다 크거나 같은 행 & 'text_max_len'보다 작거나 같은 행만 선택하여 \n",
    " #'data'에 다시 할당합니다.\n",
    "remove_text_len = data['text'].apply(lambda x: len(x.split()))\n",
    "data = data[(remove_text_len >= text_min_len) & (remove_text_len <= text_max_len)]\n",
    "\n",
    "# 'data' 데이터프레임에서 'headlines' 열의 단어 수가 'headlines_min_len'보다 크거나 같은 행 & 'headlines_max_len'보다 작거나 같은 행만 선택하여\n",
    " #'data'에 다시 할당합니다.\n",
    "remove_headlines_len = data['headlines'].apply(lambda x: len(x.split()))\n",
    "data = data[(remove_headlines_len >= headlines_min_len) & (remove_headlines_len <= headlines_max_len)]\n",
    "\n",
    "# 위의 두 조건을 모두 만족하는 최종 샘플의 개수를 출력합니다.\n",
    "print('전체 샘플수 :', (len(data)))"
   ]
  },
  {
   "cell_type": "code",
   "execution_count": 29,
   "id": "bc122e35-6f2a-4bdf-9a44-2943d6c47436",
   "metadata": {},
   "outputs": [
    {
     "data": {
      "text/html": [
       "<div>\n",
       "<style scoped>\n",
       "    .dataframe tbody tr th:only-of-type {\n",
       "        vertical-align: middle;\n",
       "    }\n",
       "\n",
       "    .dataframe tbody tr th {\n",
       "        vertical-align: top;\n",
       "    }\n",
       "\n",
       "    .dataframe thead th {\n",
       "        text-align: right;\n",
       "    }\n",
       "</style>\n",
       "<table border=\"1\" class=\"dataframe\">\n",
       "  <thead>\n",
       "    <tr style=\"text-align: right;\">\n",
       "      <th></th>\n",
       "      <th>headlines</th>\n",
       "      <th>text</th>\n",
       "      <th>decoder_input</th>\n",
       "      <th>decoder_target</th>\n",
       "    </tr>\n",
       "  </thead>\n",
       "  <tbody>\n",
       "    <tr>\n",
       "      <th>0</th>\n",
       "      <td>upGrad learner switches to career in ML &amp; Al with 90% salary hike</td>\n",
       "      <td>Saurav Kant, an alumnus of upGrad and IIIT-B's PG Program in Machine learning and Artificial Intelligence, was a Sr Systems Engineer at Infosys with almost 5 years of work experience. The program and upGrad's 360-degree career support helped him transition to a Data Scientist at Tech Mahindra with 90% salary hike. upGrad's Online Power Learning has powered 3 lakh+ careers.</td>\n",
       "      <td>sostoken upGrad learner switches to career in ML &amp; Al with 90% salary hike</td>\n",
       "      <td>upGrad learner switches to career in ML &amp; Al with 90% salary hike eostoken</td>\n",
       "    </tr>\n",
       "    <tr>\n",
       "      <th>1</th>\n",
       "      <td>Delhi techie wins free food from Swiggy for one year on CRED</td>\n",
       "      <td>Kunal Shah's credit card bill payment platform, CRED, gave users a chance to win free food from Swiggy for one year. Pranav Kaushik, a Delhi techie, bagged this reward after spending 2000 CRED coins. Users get one CRED coin per rupee of bill paid, which can be used to avail rewards from brands like Ixigo, BookMyShow, UberEats, Cult.Fit and more.</td>\n",
       "      <td>sostoken Delhi techie wins free food from Swiggy for one year on CRED</td>\n",
       "      <td>Delhi techie wins free food from Swiggy for one year on CRED eostoken</td>\n",
       "    </tr>\n",
       "    <tr>\n",
       "      <th>2</th>\n",
       "      <td>New Zealand end Rohit Sharma-led India's 12-match winning streak</td>\n",
       "      <td>New Zealand defeated India by 8 wickets in the fourth ODI at Hamilton on Thursday to win their first match of the five-match ODI series. India lost an international match under Rohit Sharma's captaincy after 12 consecutive victories dating back to March 2018. The match witnessed India getting all out for 92, their seventh lowest total in ODI cricket history.</td>\n",
       "      <td>sostoken New Zealand end Rohit Sharma-led India's 12-match winning streak</td>\n",
       "      <td>New Zealand end Rohit Sharma-led India's 12-match winning streak eostoken</td>\n",
       "    </tr>\n",
       "    <tr>\n",
       "      <th>3</th>\n",
       "      <td>Aegon life iTerm insurance plan helps customers save tax</td>\n",
       "      <td>With Aegon Life iTerm Insurance plan, customers can enjoy tax benefits on your premiums paid and save up to â¹46,800^ on taxes. The plan provides life cover up to the age of 100 years. Also, customers have options to insure against Critical Illnesses, Disability and Accidental Death Benefit Rider with a life cover up to the age of 80 years.</td>\n",
       "      <td>sostoken Aegon life iTerm insurance plan helps customers save tax</td>\n",
       "      <td>Aegon life iTerm insurance plan helps customers save tax eostoken</td>\n",
       "    </tr>\n",
       "    <tr>\n",
       "      <th>4</th>\n",
       "      <td>Have known Hirani for yrs, what if MeToo claims are not true: Sonam</td>\n",
       "      <td>Speaking about the sexual harassment allegations against Rajkumar Hirani, Sonam Kapoor said, \"I've known Hirani for many years...What if it's not true, the [#MeToo] movement will get derailed.\" \"In the #MeToo movement, I always believe a woman. But in this case, we need to reserve our judgment,\" she added. Hirani has been accused by an assistant who worked in 'Sanju'.</td>\n",
       "      <td>sostoken Have known Hirani for yrs, what if MeToo claims are not true: Sonam</td>\n",
       "      <td>Have known Hirani for yrs, what if MeToo claims are not true: Sonam eostoken</td>\n",
       "    </tr>\n",
       "  </tbody>\n",
       "</table>\n",
       "</div>"
      ],
      "text/plain": [
       "                                                             headlines  \\\n",
       "0    upGrad learner switches to career in ML & Al with 90% salary hike   \n",
       "1         Delhi techie wins free food from Swiggy for one year on CRED   \n",
       "2     New Zealand end Rohit Sharma-led India's 12-match winning streak   \n",
       "3             Aegon life iTerm insurance plan helps customers save tax   \n",
       "4  Have known Hirani for yrs, what if MeToo claims are not true: Sonam   \n",
       "\n",
       "                                                                                                                                                                                                                                                                                                                                                                                      text  \\\n",
       "0  Saurav Kant, an alumnus of upGrad and IIIT-B's PG Program in Machine learning and Artificial Intelligence, was a Sr Systems Engineer at Infosys with almost 5 years of work experience. The program and upGrad's 360-degree career support helped him transition to a Data Scientist at Tech Mahindra with 90% salary hike. upGrad's Online Power Learning has powered 3 lakh+ careers.   \n",
       "1                              Kunal Shah's credit card bill payment platform, CRED, gave users a chance to win free food from Swiggy for one year. Pranav Kaushik, a Delhi techie, bagged this reward after spending 2000 CRED coins. Users get one CRED coin per rupee of bill paid, which can be used to avail rewards from brands like Ixigo, BookMyShow, UberEats, Cult.Fit and more.   \n",
       "2                 New Zealand defeated India by 8 wickets in the fourth ODI at Hamilton on Thursday to win their first match of the five-match ODI series. India lost an international match under Rohit Sharma's captaincy after 12 consecutive victories dating back to March 2018. The match witnessed India getting all out for 92, their seventh lowest total in ODI cricket history.   \n",
       "3                                  With Aegon Life iTerm Insurance plan, customers can enjoy tax benefits on your premiums paid and save up to â¹46,800^ on taxes. The plan provides life cover up to the age of 100 years. Also, customers have options to insure against Critical Illnesses, Disability and Accidental Death Benefit Rider with a life cover up to the age of 80 years.   \n",
       "4       Speaking about the sexual harassment allegations against Rajkumar Hirani, Sonam Kapoor said, \"I've known Hirani for many years...What if it's not true, the [#MeToo] movement will get derailed.\" \"In the #MeToo movement, I always believe a woman. But in this case, we need to reserve our judgment,\" she added. Hirani has been accused by an assistant who worked in 'Sanju'.   \n",
       "\n",
       "                                                                  decoder_input  \\\n",
       "0    sostoken upGrad learner switches to career in ML & Al with 90% salary hike   \n",
       "1         sostoken Delhi techie wins free food from Swiggy for one year on CRED   \n",
       "2     sostoken New Zealand end Rohit Sharma-led India's 12-match winning streak   \n",
       "3             sostoken Aegon life iTerm insurance plan helps customers save tax   \n",
       "4  sostoken Have known Hirani for yrs, what if MeToo claims are not true: Sonam   \n",
       "\n",
       "                                                                 decoder_target  \n",
       "0    upGrad learner switches to career in ML & Al with 90% salary hike eostoken  \n",
       "1         Delhi techie wins free food from Swiggy for one year on CRED eostoken  \n",
       "2     New Zealand end Rohit Sharma-led India's 12-match winning streak eostoken  \n",
       "3             Aegon life iTerm insurance plan helps customers save tax eostoken  \n",
       "4  Have known Hirani for yrs, what if MeToo claims are not true: Sonam eostoken  "
      ]
     },
     "execution_count": 29,
     "metadata": {},
     "output_type": "execute_result"
    }
   ],
   "source": [
    "# 요약 데이터에는 시작 토큰과 종료 토큰을 추가한다.\n",
    "import pandas as pd\n",
    "\n",
    "# 데이터프레임의 열 너비를 무제한으로 설정\n",
    "pd.set_option('display.max_colwidth', None)\n",
    "\n",
    "data['decoder_input'] = data['headlines'].apply(lambda x : 'sostoken '+ x)\n",
    "data['decoder_target'] = data['headlines'].apply(lambda x : x + ' eostoken')\n",
    "data.head()"
   ]
  },
  {
   "cell_type": "code",
   "execution_count": 30,
   "id": "fefdabca-dcb2-4480-8078-1b98ca428f00",
   "metadata": {},
   "outputs": [
    {
     "name": "stdout",
     "output_type": "stream",
     "text": [
      "=3\n"
     ]
    }
   ],
   "source": [
    "# 인코더의 입력, 디코더의 입력과 레이블을 각각 다시 Numpy 타입으로 저장\n",
    "\n",
    "encoder_input = np.array(data['text']) # 인코더의 입력\n",
    "decoder_input = np.array(data['decoder_input']) # 디코더의 입력\n",
    "decoder_target = np.array(data['decoder_target']) # 디코더의 레이블\n",
    "print('=3')"
   ]
  },
  {
   "cell_type": "code",
   "execution_count": 31,
   "id": "511f655a-12fe-48e1-aeba-11f47644257d",
   "metadata": {},
   "outputs": [
    {
     "name": "stdout",
     "output_type": "stream",
     "text": [
      "[ 4652 82724 14850 ... 68344 44558 69510]\n"
     ]
    }
   ],
   "source": [
    "#훈련 데이터와 테스트 데이터 분리\n",
    "\n",
    "# encoder_input과 크기와 형태가 같은 순서가 섞인 정수 시퀀스 생성\n",
    "\n",
    "indices = np.arange(encoder_input.shape[0])\n",
    "np.random.shuffle(indices)\n",
    "print(indices)"
   ]
  },
  {
   "cell_type": "code",
   "execution_count": 32,
   "id": "37731052-70ea-4f6d-a267-79e2c0011807",
   "metadata": {},
   "outputs": [
    {
     "name": "stdout",
     "output_type": "stream",
     "text": [
      "=3\n"
     ]
    }
   ],
   "source": [
    "encoder_input = encoder_input[indices]\n",
    "decoder_input = decoder_input[indices]\n",
    "decoder_target = decoder_target[indices]\n",
    "print('=3')"
   ]
  },
  {
   "cell_type": "code",
   "execution_count": 33,
   "id": "dbf8d127-6e62-4cc0-976b-841927528fc2",
   "metadata": {},
   "outputs": [
    {
     "name": "stdout",
     "output_type": "stream",
     "text": [
      "테스트 데이터의 수 : 19671\n"
     ]
    }
   ],
   "source": [
    "# 8:2의 비율로 훈련 데이터와 테스트 데이터로 분리\n",
    "\n",
    "n_of_val = int(len(encoder_input)*0.2)\n",
    "print('테스트 데이터의 수 :', n_of_val)"
   ]
  },
  {
   "cell_type": "code",
   "execution_count": 34,
   "id": "d063b15f-9a4d-4545-b15b-927374d20f6b",
   "metadata": {},
   "outputs": [
    {
     "name": "stdout",
     "output_type": "stream",
     "text": [
      "훈련 데이터의 개수 : 78688\n",
      "훈련 레이블의 개수 : 78688\n",
      "테스트 데이터의 개수 : 19671\n",
      "테스트 레이블의 개수 : 19671\n"
     ]
    }
   ],
   "source": [
    "# 데이터를 양분\n",
    "\n",
    "encoder_input_train = encoder_input[:-n_of_val]\n",
    "decoder_input_train = decoder_input[:-n_of_val]\n",
    "decoder_target_train = decoder_target[:-n_of_val]\n",
    "\n",
    "encoder_input_test = encoder_input[-n_of_val:]\n",
    "decoder_input_test = decoder_input[-n_of_val:]\n",
    "decoder_target_test = decoder_target[-n_of_val:]\n",
    "\n",
    "print('훈련 데이터의 개수 :', len(encoder_input_train))\n",
    "print('훈련 레이블의 개수 :', len(decoder_input_train))\n",
    "print('테스트 데이터의 개수 :', len(encoder_input_test))\n",
    "print('테스트 레이블의 개수 :', len(decoder_input_test))"
   ]
  },
  {
   "cell_type": "code",
   "execution_count": 35,
   "id": "b890a221-018e-4682-9240-4b09f69ec138",
   "metadata": {},
   "outputs": [],
   "source": [
    "# 정수 인코딩\n",
    " # 단어 집합(vocabulary) 만들기 및 정수 인코딩"
   ]
  },
  {
   "cell_type": "code",
   "execution_count": 36,
   "id": "11ddef19-f2e9-471d-bc1b-48d8dd8fbd58",
   "metadata": {},
   "outputs": [
    {
     "name": "stdout",
     "output_type": "stream",
     "text": [
      "=3\n"
     ]
    }
   ],
   "source": [
    "# 훈련 데이터 단어 집합\n",
    " \n",
    "#원문에 해당되는 encoder_input_train 단어 집합을 만들기.\n",
    "#Keras의 토크나이저를 사용하여, 입력된 훈련 데이터로부터 단어 집합 생성\n",
    "from collections import Counter\n",
    "\n",
    "\n",
    "def src_tokenizer(text): # 토크나이저 정의\n",
    "    text = text.lower()  # 소문자로 변환\n",
    "    text = re.sub(r\"[^a-zA-Z0-9]+\", \" \", text)  # 특수문자 제거\n",
    "    return text.split()  # 공백 기준 토큰화\n",
    "\n",
    "def build_vocab(texts):\n",
    "    vocab = {\"<PAD>\": 0, \"<UNK>\": 1}  # 패딩과 UNK 토큰 추가\n",
    "    word_counter = Counter()\n",
    "\n",
    "    for text in texts:\n",
    "        word_counter.update(src_tokenizer(text))  # 단어 빈도수 계산\n",
    "\n",
    "    # 단어 집합 생성 (빈도가 높은 순서대로)\n",
    "    for word, _ in word_counter.most_common():\n",
    "        if word not in vocab:\n",
    "            vocab[word] = len(vocab)\n",
    "\n",
    "    return vocab\n",
    "\n",
    "src_vocab = build_vocab(encoder_input_train) # 입력된 데이터로부터 단어 집합 생성\n",
    "print('=3')"
   ]
  },
  {
   "cell_type": "code",
   "execution_count": 37,
   "id": "bb8ef701-88af-480e-b5ca-a4aa637c959b",
   "metadata": {},
   "outputs": [
    {
     "name": "stdout",
     "output_type": "stream",
     "text": [
      "단어 집합(vocabulary)의 크기 : 248587\n",
      "등장 빈도가 9번 이하인 희귀 단어의 수: 217341\n",
      "단어 집합에서 희귀 단어를 제외시킬 경우의 단어 집합의 크기 31246\n",
      "단어 집합에서 희귀 단어의 비율: 87.43055751105247\n",
      "전체 등장 빈도에서 희귀 단어 등장 빈도 비율: 7.301500291539082\n"
     ]
    }
   ],
   "source": [
    "# 빈도수 낮은 데이터 제거 \n",
    "\n",
    " # 빈도수 7회 미만인 단어들 비중 확인\n",
    "\n",
    "threshold = 10\n",
    "\n",
    "# 전처리된 데이터 사용\n",
    "text_data = data['text'].tolist()\n",
    "headlines_data = data['headlines'].tolist()\n",
    "# 단어 빈도수 계산\n",
    "word_counter = Counter()\n",
    "for text in text_data:\n",
    "    word_counter.update(text.split())\n",
    "\n",
    "total_cnt = len(word_counter)  # 전체 단어 개수\n",
    "total_freq = sum(word_counter.values())  # 전체 단어 등장 횟수\n",
    "rare_cnt = sum(1 for count in word_counter.values() if count < threshold)  # 희귀 단어 개수\n",
    "rare_freq = sum(count for count in word_counter.values() if count < threshold)  # 희귀 단어 등장 횟수\n",
    "\n",
    "# 희귀 단어를 제외한 단어 사전 구축\n",
    "vocab = {\"<PAD>\": 0, \"<UNK>\": 1}  # 패딩 및 미등록 단어 추가\n",
    "word_index = {word: idx + 2 for idx, (word, count) in enumerate(word_counter.items()) if count >= threshold}\n",
    "\n",
    "print('단어 집합(vocabulary)의 크기 :', total_cnt)\n",
    "print('등장 빈도가 %s번 이하인 희귀 단어의 수: %s'%(threshold - 1, rare_cnt))\n",
    "print('단어 집합에서 희귀 단어를 제외시킬 경우의 단어 집합의 크기 %s'%(total_cnt - rare_cnt))\n",
    "print(\"단어 집합에서 희귀 단어의 비율:\", (rare_cnt / total_cnt)*100)\n",
    "print(\"전체 등장 빈도에서 희귀 단어 등장 빈도 비율:\", (rare_freq / total_freq)*100)"
   ]
  },
  {
   "cell_type": "code",
   "execution_count": 38,
   "id": "ab6113c9-f21b-4a44-8e2d-2fcdc41b786a",
   "metadata": {},
   "outputs": [
    {
     "name": "stdout",
     "output_type": "stream",
     "text": [
      "=3\n"
     ]
    }
   ],
   "source": [
    "src_vocab_size = 30000\n",
    "\n",
    "def build_limited_vocab(texts, vocab_size):\n",
    "    vocab = {\"<PAD>\": 0, \"<UNK>\": 1}  # 패딩과 UNK 토큰 추가\n",
    "    word_counter = Counter()\n",
    "\n",
    "    for text in texts:\n",
    "        word_counter.update(src_tokenizer(text))  # 단어 빈도수 계산\n",
    "\n",
    "    # 빈도가 높은 상위 vocab_size - 2개 단어만 선택 (PAD, UNK 포함)\n",
    "    for word, _ in word_counter.most_common(vocab_size - 2):\n",
    "        vocab[word] = len(vocab)\n",
    "\n",
    "    return vocab\n",
    "\n",
    "src_vocab = build_limited_vocab(encoder_input_train, src_vocab_size)\n",
    "print('=3')"
   ]
  },
  {
   "cell_type": "code",
   "execution_count": 39,
   "id": "1f38933d-4a86-4957-ae45-059753f06e4e",
   "metadata": {},
   "outputs": [],
   "source": [
    "# texts_to_sequences()는 생성된 단어 집합에 기반하여\n",
    "# 입력으로 주어진 텍스트 데이터의 단어들을 모두 정수로 변환하는 정수 인코딩을 수행한다. \n",
    "# 현재 단어 집합의 크기를 39,000으로 제한함으로 넘는 숫자들은 정수 인코딩 후에는 데이터에 존재하지 않는."
   ]
  },
  {
   "cell_type": "code",
   "execution_count": 40,
   "id": "873f4dcb-d358-4ede-a8a7-16f025d1318c",
   "metadata": {},
   "outputs": [
    {
     "name": "stdout",
     "output_type": "stream",
     "text": [
      "[[5496, 704, 9833, 1, 86, 602, 6, 111, 8, 157, 407, 14, 580, 617, 17, 3021, 4836, 699, 19, 233, 5, 5109, 9, 130, 1, 14, 2213, 5, 19, 272, 73, 2, 330, 155, 351, 7, 4336, 3, 19, 1129, 5, 2, 285, 2, 4837, 138, 21, 56, 369, 6, 2, 9335, 1, 129, 38, 201, 5, 5109, 9, 165], [55, 10819, 7183, 23415, 498, 4, 254, 9, 221, 6, 571, 8604, 5, 19, 6008, 11302, 454, 23415, 14, 88, 273, 5, 473, 11, 477, 4104, 5, 2, 3022, 311, 346, 5, 203, 1326, 16, 528, 4, 7804, 16, 14, 45, 4, 192, 6, 2, 157, 108, 2309, 87, 14, 279, 145, 31, 8, 2837, 173, 49, 2421, 199, 3, 1670], [6125, 3900, 10, 297, 2, 2290, 55, 3, 876, 4, 1209, 9, 147, 696, 3330, 2, 1873, 1052, 334, 75, 7, 17578, 213, 49, 1495, 5, 6711, 9, 146, 3900, 930, 2, 2927, 32, 59, 322, 224, 17, 8015, 27856, 212, 75, 7, 7097, 213, 3900, 15, 124, 2, 169, 55, 21, 642, 999, 3, 876, 4, 147, 2937, 145, 3795, 425]]\n",
      "[[128, 3, 90, 158, 8614, 7913, 15, 1539, 4, 646, 5323, 77, 2, 56, 28, 34, 478, 24, 8614, 8, 3213, 5, 23691, 44, 15, 45, 728, 3, 3244, 64, 3, 35, 314, 90, 33, 8614, 8, 6057, 537, 6497, 9463, 77, 343, 42, 534, 54, 20, 7, 14, 968, 170, 2373, 9, 2426, 13, 44, 15, 1539, 2, 5323], [1062, 11, 1079, 1863, 741, 4885, 2, 1877, 6, 4882, 14, 10233, 17, 4, 693, 291, 9, 132, 40, 550, 1689, 6, 2893, 3, 693, 7, 11367, 2, 2296, 46, 816, 3, 1570, 2893, 4857, 3, 3095, 65, 101, 62, 128, 3, 2, 3022, 6, 2393, 31, 18797, 453, 1, 2, 1225, 29, 2120, 3, 207, 2, 1689, 17, 635, 1, 672], [21, 2863, 5, 1352, 1041, 8, 11345, 110, 89, 1203, 899, 1356, 14117, 143, 2, 383, 3, 2185, 3254, 1649, 7960, 3, 1377, 4112, 4411, 310, 5, 6826, 6, 4478, 12298, 16, 8442, 2, 559, 11, 17345, 473, 150, 2, 1802, 678, 7, 1323, 1081, 2, 2661, 38, 201, 21, 2, 383, 1077, 429, 70, 2863, 18, 2220, 5860, 2926]]\n"
     ]
    }
   ],
   "source": [
    "def text_to_sequence(texts, vocab):\n",
    "    sequences = []\n",
    "    for text in texts:\n",
    "        sequence = [vocab.get(word, vocab[\"<UNK>\"]) for word in src_tokenizer(text)]\n",
    "        sequences.append(sequence)\n",
    "    return sequences\n",
    "\n",
    "# 텍스트 데이터 정수 시퀀스로 변환\n",
    "encoder_input_train_seq = text_to_sequence(encoder_input_train, src_vocab)\n",
    "encoder_input_test_seq = text_to_sequence(encoder_input_test, src_vocab)\n",
    "\n",
    "# 잘 진행되었는지 샘플 출력\n",
    "print(encoder_input_train_seq[:3])\n",
    "print(encoder_input_test_seq[:3])"
   ]
  },
  {
   "cell_type": "code",
   "execution_count": 41,
   "id": "56019eb9-ce89-4f91-906e-60621f40fb1c",
   "metadata": {},
   "outputs": [
    {
     "name": "stdout",
     "output_type": "stream",
     "text": [
      "=3\n"
     ]
    }
   ],
   "source": [
    "# headlines 데이터에 대해서도 동일한 작업 수행. \n",
    "# 케라스의 토크나이저를 사용하여 decoder_input_train을 입력으로 \n",
    "# 전체 단어 집합과 각 단어에 대한 빈도수를 계산.\n",
    "\n",
    "def tar_tokenizer(text):\n",
    "    text = text.lower()  # 소문자로 변환\n",
    "    text = re.sub(r\"[^a-zA-Z0-9]+\", \" \", text)  # 특수문자 제거\n",
    "    return text.split()  # 공백 기준 토큰화\n",
    "\n",
    "tar_vocab = build_vocab(decoder_input_train)\n",
    "print('=3')"
   ]
  },
  {
   "cell_type": "code",
   "execution_count": 42,
   "id": "d738bf02-f73a-4d3d-a228-1becbdf42f70",
   "metadata": {},
   "outputs": [
    {
     "name": "stdout",
     "output_type": "stream",
     "text": [
      "단어 집합(vocabulary)의 크기 : 31920\n",
      "등장 빈도가 4번 이하인 희귀 단어의 수: 19859\n",
      "단어 집합에서 희귀 단어를 제외시킬 경우의 단어 집합의 크기 12061\n",
      "단어 집합에서 희귀 단어의 비율: 62.21491228070175\n",
      "전체 등장 빈도에서 희귀 단어 등장 빈도 비율: 3.909534247896646\n"
     ]
    }
   ],
   "source": [
    "threshold = 5\n",
    "\n",
    "word_counter = Counter()\n",
    "for text in decoder_input_train:\n",
    "    word_counter.update(tar_tokenizer(text))  # 각 문장의 단어 빈도 계산\n",
    "\n",
    "# 전체 단어 개수 및 등장 빈도 계산\n",
    "total_cnt = len(word_counter)  # 전체 단어 개수\n",
    "total_freq = sum(word_counter.values())  # 전체 단어 등장 횟수\n",
    "rare_cnt = sum(1 for count in word_counter.values() if count < threshold)  # 희귀 단어 개수\n",
    "rare_freq = sum(count for count in word_counter.values() if count < threshold)  # 희귀 단어 등장 횟수\n",
    "\n",
    "print('단어 집합(vocabulary)의 크기 :', total_cnt)\n",
    "print('등장 빈도가 %s번 이하인 희귀 단어의 수: %s'%(threshold - 1, rare_cnt))\n",
    "print('단어 집합에서 희귀 단어를 제외시킬 경우의 단어 집합의 크기 %s'%(total_cnt - rare_cnt))\n",
    "print(\"단어 집합에서 희귀 단어의 비율:\", (rare_cnt / total_cnt)*100)\n",
    "print(\"전체 등장 빈도에서 희귀 단어 등장 빈도 비율:\", (rare_freq / total_freq)*100)"
   ]
  },
  {
   "cell_type": "code",
   "execution_count": 43,
   "id": "d5514cad-daf3-45d8-ab8d-d7332e4743a2",
   "metadata": {},
   "outputs": [
    {
     "name": "stdout",
     "output_type": "stream",
     "text": [
      "input\n",
      "input  [[2, 322, 152, 138, 329, 133, 935, 199, 5, 9566], [2, 37, 1397, 366, 834, 8, 855, 8498, 5, 4834], [2, 320, 45, 30, 2678, 1187, 37, 4, 702, 1283, 9, 94, 458], [2, 829, 1398, 4664, 394, 11, 539, 16, 829, 677, 76], [2, 29, 52, 23, 860, 1229, 4, 357, 436, 716, 104]]\n",
      "target\n",
      "decoder  [[322, 152, 138, 329, 133, 935, 199, 5, 9566, 3], [37, 1397, 366, 834, 8, 855, 8498, 5, 4834, 3], [320, 45, 30, 2678, 1187, 37, 4, 702, 1283, 9, 94, 458, 3], [829, 1398, 4664, 394, 11, 539, 16, 829, 677, 76, 3], [29, 52, 23, 860, 1229, 4, 357, 436, 716, 104, 3]]\n"
     ]
    }
   ],
   "source": [
    "tar_vocab_size = 15000\n",
    "tar_vocab = build_limited_vocab(decoder_input_train + decoder_target_train, tar_vocab_size)\n",
    "\n",
    "# 텍스트 시퀀스를 정수 시퀀스로 변환\n",
    "decoder_input_train_seq = text_to_sequence(decoder_input_train, tar_vocab)\n",
    "decoder_target_train_seq = text_to_sequence(decoder_target_train, tar_vocab)\n",
    "decoder_input_test_seq = text_to_sequence(decoder_input_test, tar_vocab)\n",
    "decoder_target_test_seq = text_to_sequence(decoder_target_test, tar_vocab)\n",
    "\n",
    "# 잘 변환되었는지 확인\n",
    "print('input')\n",
    "print('input ',decoder_input_train_seq[:5])\n",
    "print('target')\n",
    "print('decoder ',decoder_target_train_seq[:5])"
   ]
  },
  {
   "cell_type": "code",
   "execution_count": 44,
   "id": "bb6cf01c-8708-40b5-89ba-7f2ca355be28",
   "metadata": {},
   "outputs": [],
   "source": [
    "# decoder_input_train과 decoder_target_train에는 숫자 10,000이 넘는 숫자들은 존재하지 않음.\n",
    "# 빈도수가 낮은 단어만으로 구성되었던 샘플들은 빈(empty) 샘플이 되었을 가능성이 있음.\n",
    "  \n",
    "# 요약문에서 길이가 0이 된 샘플들의 인덱스를 확인. \n",
    "# 주의할 점은 요약문인 decoder_input에는 sostoken 또는 decoder_target에는 eostoken이 추가된 상태이고, \n",
    "# 이 두 토큰은 모든 샘플에서 등장하므로 빈도수가 샘플 수와 동일하게 매우 높으므로 단어 집합 제한에도 삭제되지 않음. \n",
    "# 따라서 길이가 0이 된 요약문의 실제 길이는 1로 나옴.\n",
    " # --> 예제의 경우 특정 단어수 이하를 제거하지 않음으로 이런 상황이 발생할 수 있으나. 본프로젝트에서는 제거함으로 발생하지않음\n",
    " # 그러나 확인 차원에서 진행\n",
    "\n",
    "# 훈련 데이터와 테스트 데이터에 대해서 요약문의 길이가 1인 경우의 인덱스를 \n",
    "# 각각 drop_train과 drop_test에 라는 변수에 저장후 삭제."
   ]
  },
  {
   "cell_type": "code",
   "execution_count": 45,
   "id": "d013c27a-160c-4edb-b8ff-5f8f78561245",
   "metadata": {},
   "outputs": [
    {
     "name": "stdout",
     "output_type": "stream",
     "text": [
      "삭제할 훈련 데이터의 개수 : 0\n",
      "삭제할 테스트 데이터의 개수 : 0\n",
      "훈련 데이터의 개수 : 78688\n",
      "훈련 레이블의 개수 : 78688\n",
      "테스트 데이터의 개수 : 19671\n",
      "테스트 레이블의 개수 : 19671\n"
     ]
    }
   ],
   "source": [
    "drop_train = [index for index, sentence in enumerate(decoder_input_train) if len(sentence) == 1]\n",
    "drop_test = [index for index, sentence in enumerate(decoder_input_test) if len(sentence) == 1]\n",
    "\n",
    "print('삭제할 훈련 데이터의 개수 :', len(drop_train))\n",
    "print('삭제할 테스트 데이터의 개수 :', len(drop_test))\n",
    "\n",
    "encoder_input_train = [sentence for index, sentence in enumerate(encoder_input_train) if index not in drop_train]\n",
    "decoder_input_train = [sentence for index, sentence in enumerate(decoder_input_train) if index not in drop_train]\n",
    "decoder_target_train = [sentence for index, sentence in enumerate(decoder_target_train) if index not in drop_train]\n",
    "\n",
    "encoder_input_test = [sentence for index, sentence in enumerate(encoder_input_test) if index not in drop_test]\n",
    "decoder_input_test = [sentence for index, sentence in enumerate(decoder_input_test) if index not in drop_test]\n",
    "decoder_target_test = [sentence for index, sentence in enumerate(decoder_target_test) if index not in drop_test]\n",
    "\n",
    "print('훈련 데이터의 개수 :', len(encoder_input_train))\n",
    "print('훈련 레이블의 개수 :', len(decoder_input_train))\n",
    "print('테스트 데이터의 개수 :', len(encoder_input_test))\n",
    "print('테스트 레이블의 개수 :', len(decoder_input_test))"
   ]
  },
  {
   "cell_type": "code",
   "execution_count": 46,
   "id": "39b4bbe6-e057-4a8b-851a-5f9b13ffa406",
   "metadata": {},
   "outputs": [
    {
     "name": "stdout",
     "output_type": "stream",
     "text": [
      "=3\n"
     ]
    }
   ],
   "source": [
    "#패딩하기\n",
    "\n",
    "from torch.nn.utils.rnn import pad_sequence\n",
    "\n",
    "# 텐서 변환 함수 (리스트 → PyTorch 텐서)\n",
    "def convert_to_tensor(sequences):\n",
    "    return [torch.tensor(seq, dtype=torch.long) for seq in sequences]\n",
    "\n",
    "# 패딩 적용 함수 (PyTorch `pad_sequence()` 활용)\n",
    "def pad_sequences_pytorch(sequences, maxlen, padding_value=0):\n",
    "    sequences = convert_to_tensor(sequences)  # 리스트를 텐서로 변환\n",
    "    padded_seqs = pad_sequence(sequences, batch_first=True, padding_value=padding_value)  # 패딩 적용\n",
    "    return padded_seqs[:, :maxlen]  # maxlen 길이로 자르기 (최대 길이 초과 방지)\n",
    "\n",
    "# 패딩 적용\n",
    "encoder_input_train = pad_sequences_pytorch(encoder_input_train_seq, maxlen=text_max_len)\n",
    "encoder_input_test = pad_sequences_pytorch(encoder_input_test_seq, maxlen=text_max_len)\n",
    "decoder_input_train = pad_sequences_pytorch(decoder_input_train_seq, maxlen=headlines_max_len)\n",
    "decoder_target_train = pad_sequences_pytorch(decoder_target_train_seq, maxlen=headlines_max_len)\n",
    "decoder_input_test = pad_sequences_pytorch(decoder_input_test_seq, maxlen=headlines_max_len)\n",
    "decoder_target_test = pad_sequences_pytorch(decoder_target_test_seq, maxlen=headlines_max_len)\n",
    "\n",
    "print('=3')"
   ]
  },
  {
   "cell_type": "code",
   "execution_count": 47,
   "id": "bc00936b-5800-4b91-aead-a97bd3146cde",
   "metadata": {},
   "outputs": [],
   "source": [
    "# 모델 설계"
   ]
  },
  {
   "cell_type": "code",
   "execution_count": 48,
   "id": "98b1d645-f7a8-4789-a280-730798da7ff8",
   "metadata": {},
   "outputs": [],
   "source": [
    "# 함수형 API를 이용해서 인코더를 설계.\n",
    " # 임베딩 벡터의 차원은 128로 정의하고, hidden state의 크기를 256으로 정의\n",
    " # hidden state는 LSTM에서 얼만큼의 수용력(capacity)를 가질지를 정하는 파라미터\n",
    " # 이 파라미터는 LSTM의 용량의 크기나, LSTM에서의 뉴런의 개수로 이해. \n",
    " # 다른 신경망과 마찬가지로, 무조건 용량을 많이 준다고 해서 성능이 반드시 올라가는 것은 아님.\n",
    "\n",
    "# 인코더의 LSTM은 총 3개의 층으로 구성해서 모델의 복잡도를 높임.\n",
    "# hidden state의 크기를 늘리는 것이 LSTM 층 1개의 용량을 늘린다면, \n",
    "# 3개의 층을 사용하는 것은 모델의 용량을 늘린다고 볼 수 있음.\n",
    "# 3개의 층을 지나서 인코더로부터 나온 출력 벡터는 디코더로 보내줌\n",
    "\n",
    "\n",
    "import torch.nn as nn\n",
    "import torch.nn.functional as F\n",
    "\n",
    "# 인코더 설계 시작\n",
    "embedding_dim = 128\n",
    "hidden_size = 256\n",
    "src_vocab_size = len(src_vocab)  # 단어 집합 크기\n",
    "\n",
    "# 인코더\n",
    "class Encoder(nn.Module):\n",
    "    def __init__(self, vocab_size, embedding_dim, hidden_size, num_layers=2, dropout=0.3):\n",
    "        super(Encoder, self).__init__()\n",
    "        self.embedding = nn.Embedding(vocab_size, embedding_dim)\n",
    "        self.lstm = nn.LSTM(\n",
    "            embedding_dim, hidden_size, num_layers=num_layers,\n",
    "            dropout=dropout, batch_first=True\n",
    "        )\n",
    "\n",
    "    def forward(self, x): # 인코더의 임베딩 층\n",
    "        embedded = self.embedding(x)\n",
    "        output, (hidden, cell) = self.lstm(embedded)  # LSTM 실행\n",
    "        return output, hidden, cell\n",
    "\n",
    "# 인코더 모델 생성\n",
    "encoder = Encoder(src_vocab_size, embedding_dim, hidden_size, num_layers=3, dropout=0.4)"
   ]
  },
  {
   "cell_type": "code",
   "execution_count": 49,
   "id": "e8438682-f878-48f5-9302-91c613bce37d",
   "metadata": {},
   "outputs": [],
   "source": [
    "# 디코더 설계\n",
    "# 디코더의 임베딩 층과 LSTM을 설계하는 것은 인코더와 거의 동일\n",
    "# 하지만 LSTM의 입력을 정의할 때, initial_state의 인자값으로 인코더의 hidden state와 cell state의 값을 넣어줘야 함.\n",
    "\n",
    "\n",
    "class Decoder(nn.Module):\n",
    "    def __init__(self, vocab_size, embedding_dim, hidden_size, dropout=0.3, num_layers=2):\n",
    "        super(Decoder, self).__init__()\n",
    "        self.embedding = nn.Embedding(vocab_size, embedding_dim)\n",
    "        self.lstm = nn.LSTM(\n",
    "            embedding_dim, hidden_size, num_layers=num_layers, dropout=dropout,\n",
    "            batch_first=True\n",
    "        )\n",
    "\n",
    "    def forward(self, x, hidden, cell): # 디코더의 임베딩 층\n",
    "        embedded = self.embedding(x)\n",
    "        output, (hidden, cell) = self.lstm(embedded, (hidden, cell))  # 초기 상태를 인코더에서 전달받음\n",
    "        return output, hidden, cell\n",
    "\n",
    "# 디코더 모델 생성\n",
    "decoder = Decoder(tar_vocab_size, embedding_dim, hidden_size, num_layers=3, dropout=0.4)"
   ]
  },
  {
   "cell_type": "code",
   "execution_count": 50,
   "id": "f7c26516-2497-4a74-bc12-4de5c57aa257",
   "metadata": {},
   "outputs": [],
   "source": [
    "# 디코더의 출력층을 설계.\n",
    "\n",
    "# 디코더의 출력층\n",
    "# class Seq2Seq(nn.Module):\n",
    "#     def __init__(self, encoder, decoder, vocab_size):\n",
    "#         super(Seq2Seq, self).__init__()\n",
    "#         self.encoder = encoder\n",
    "#         self.decoder = decoder\n",
    "#         self.softmax_layer = nn.Linear(hidden_size, vocab_size)  # 출력층 정의\n",
    "\n",
    "#     def forward(self, encoder_input, decoder_input):\n",
    "#         # 인코더 실행\n",
    "#         encoder_output, hidden, cell = self.encoder(encoder_input)\n",
    "\n",
    "#         # 디코더 실행\n",
    "#         decoder_output, _, _ = self.decoder(decoder_input, hidden, cell)\n",
    "\n",
    "#         # 출력층 적용 (Softmax는 Loss 내부에서 적용되므로 생략 가능)\n",
    "#         output = self.softmax_layer(decoder_output)\n",
    "#         return output\n",
    "\n",
    "# # 모델 정의\n",
    "# model = Seq2Seq(encoder, decoder, tar_vocab_size)\n",
    "# print(model)\n"
   ]
  },
  {
   "cell_type": "code",
   "execution_count": 51,
   "id": "e52e0f8a-080b-4a4d-b800-1ffc83fb5372",
   "metadata": {},
   "outputs": [],
   "source": [
    "# 디코더의 출력층에서는 headlines의 단어장인 tar_vocab의 수많은 선택지 중 하나의 단어를 선택하는 다중 클래스 분류 문제\n",
    "# 때문에 Dense의 인자로 tar_vocab을 주고, 활성화 함수로 소프트맥스 함수를 사용.\n",
    "\n",
    "# 지금까지 설계한 것은 인코더의 hidden state와 cell state를 디코더의 초기 state로 사용하는 가장 기본적인 seq2seq\n",
    "# 디코더의 출력층을 설계를 어텐션 메커니즘으로 변경.\n",
    "\n",
    "# 어텐션 메커니즘\n",
    "# 어텐션 메커니즘을 수행하는 어텐션 함수를 설계하는 것은 또 다른 새로운 신경망을 설계해야 한다는 뜻이에요. \n",
    "# 어텐션 기능을 구현하고 디코더의 출력층에 어떤 방식으로 결합하는지 배워볼게요.\n",
    "\n",
    "# 참고로 여기서 사용하는 어텐션 함수는 Luong 스타일의 어텐션입니다. \n",
    "\n",
    "# 아래와 같이 어텐션 층을 만들고, 위에서 설계한 디코더의 출력층을 수정해 봅시다."
   ]
  },
  {
   "cell_type": "code",
   "execution_count": 52,
   "id": "a3037d20-f1e5-4ef4-8353-772417235404",
   "metadata": {},
   "outputs": [],
   "source": [
    "# Coverage Attention은 디코딩 과정에서 이미 주목한(source) 위치를 다시 과도하게 참조하지 않도록 합니다.\n",
    "# 뉴스 요약에서 같은 단어나 구절을 반복하는 원인 중 하나가 디코더가 동일한 입력 구간에 여러 번 어텐션을 집중하는 문제인데,\n",
    "#coverage가 이를 완화합니다.\n",
    "# 그 결과 \"입력의 동일 부분을 반복해서 읽어오기\" 때문에 생기는 반복은 줄어듭니다.\n",
    "# --> 큰 효과를 보지 못함\n",
    "\n",
    "# 그런데 왜 한계가 있는가\n",
    "# 인퍼런스 반복에는 두 가지 원인이 있습니다:\n",
    "# Attention 반복 → 입력에서 같은 위치를 계속 읽는 문제 → coverage로 완화 가능 ✅\n",
    "# Language Model 반복 → 이미 생성한 단어/구문을 자기 자신이 계속 이어서 생성하는 문제 → coverage만으로는 불충분 ❌\n",
    "# 두 번째 문제는 출력 시퀀스 내부의 반복 패턴 억제가 필요하고, 이는 coverage가 아니라 \n",
    "#Beam Search + Repetition Penalty + n-gram Blocking 같은 디코딩 제약에서 해결해야 합니다."
   ]
  },
  {
   "cell_type": "code",
   "execution_count": 53,
   "id": "3aed212e-0f8b-4a52-9b15-7271fe0f86e2",
   "metadata": {},
   "outputs": [
    {
     "name": "stdout",
     "output_type": "stream",
     "text": [
      "Seq2SeqWithAttention(\n",
      "  (encoder): Encoder(\n",
      "    (embedding): Embedding(30000, 128)\n",
      "    (lstm): LSTM(128, 256, num_layers=3, batch_first=True, dropout=0.4)\n",
      "  )\n",
      "  (decoder): Decoder(\n",
      "    (embedding): Embedding(15000, 128)\n",
      "    (lstm): LSTM(128, 256, num_layers=3, batch_first=True, dropout=0.4)\n",
      "  )\n",
      "  (attention): Attention_dot_with_coverage(\n",
      "    (attn): Linear(in_features=256, out_features=256, bias=True)\n",
      "    (v): Linear(in_features=256, out_features=1, bias=False)\n",
      "    (coverage_weight): Linear(in_features=1, out_features=256, bias=False)\n",
      "  )\n",
      "  (concat): Linear(in_features=512, out_features=256, bias=True)\n",
      "  (output_layer): Linear(in_features=256, out_features=15000, bias=True)\n",
      "  (drop): Dropout(p=0.3, inplace=False)\n",
      ")\n"
     ]
    }
   ],
   "source": [
    "#어텐션 모델 \n",
    "# 인코더의 hidden state들과 디코더의 hidden state들을 어텐션 함수의 입력으로 사용하고, \n",
    "#어텐션 함수가 리턴한 값을 예측 시에 디코더의 hidden state와 함께 활용하는 형태로 작동.\n",
    "\n",
    "# class Attention_dot(nn.Module):\n",
    "#     def __init__(self, hidden_size):\n",
    "#         super(Attention_dot, self).__init__()\n",
    "\n",
    "\n",
    "# 반복억제를 위한 Coverage Attention을 추가\n",
    "\n",
    "class Attention_dot_with_coverage(nn.Module):#@\n",
    "    def __init__(self, hidden_size):#@\n",
    "        super(Attention_dot_with_coverage, self).__init__()#@\n",
    "        self.attn = nn.Linear(hidden_size, hidden_size)  # 어텐션 가중치\n",
    "        self.v = nn.Linear(hidden_size, 1, bias=False)  # 어텐션 가중치 벡터\n",
    "\n",
    "        # [추가] coverage vector를 attention score에 반영하기 위한 가중치#@\n",
    "        self.coverage_weight = nn.Linear(1, hidden_size, bias=False)  #@\n",
    "        \n",
    "    def forward(self, decoder_output, encoder_outputs, coverage_vector=None):\n",
    "        \"\"\"\n",
    "        decoder_output: (batch, tgt_len, hidden_size)\n",
    "        encoder_outputs: (batch, src_len, hidden_size)\n",
    "        coverage_vector: (batch, src_len, 1) — 누적 attention weights\n",
    "        \"\"\"\n",
    "        # [추가] coverage vector가 없으면 0으로 초기화\n",
    "        if coverage_vector is None:\n",
    "            coverage_vector = torch.zeros(encoder_outputs.size(0), \n",
    "                                          encoder_outputs.size(1), 1,\n",
    "                                          device=encoder_outputs.device)\n",
    "\n",
    "        # [변경] coverage 반영: encoder_outputs + coverage term\n",
    "        coverage_feature = self.coverage_weight(coverage_vector)  # (batch, src_len, hidden)\n",
    "        encoder_features = encoder_outputs + coverage_feature\n",
    "\n",
    "        # attention score 계산\n",
    "        attn_weights = torch.bmm(decoder_output, encoder_features.transpose(1, 2))\n",
    "        attn_weights = F.softmax(attn_weights, dim=-1)  \n",
    "\n",
    "        # [추가] coverage vector 업데이트\n",
    "        coverage_vector = coverage_vector + attn_weights.transpose(1, 2)  # (batch, src_len, 1)\n",
    "\n",
    "        attn_out = torch.bmm(attn_weights, encoder_outputs)\n",
    "\n",
    "        return attn_out, attn_weights, coverage_vector\n",
    " \n",
    "class Seq2SeqWithAttention(nn.Module):\n",
    "    def __init__(self, encoder, decoder, vocab_size, hidden_size, dropout=0.3):\n",
    "        super(Seq2SeqWithAttention, self).__init__()\n",
    "        self.encoder = encoder\n",
    "        self.decoder = decoder\n",
    "        #self.attention = Attention_dot(hidden_size)\n",
    "        self.attention = Attention_dot_with_coverage(hidden_size)  # [변경] Coverage 버전 사용\n",
    "        self.concat = nn.Linear(hidden_size * 2, hidden_size)  # 어텐션 결합\n",
    "        self.output_layer = nn.Linear(hidden_size, vocab_size)  # 최종 출력층\n",
    "        self.drop = nn.Dropout(dropout)\n",
    "\n",
    "    def forward(self, encoder_input, decoder_input):\n",
    "        encoder_outputs, hidden, cell = self.encoder(encoder_input)\n",
    "        decoder_outputs, _, _ = self.decoder(decoder_input, hidden, cell)\n",
    "\n",
    "         # [추가] coverage vector 초기화\n",
    "        coverage_vector = None\n",
    "\n",
    "        # [변경] 시퀀스 각 스텝별로 attention 계산 & coverage 갱신\n",
    "        attn_outputs = []\n",
    "        for t in range(decoder_outputs.size(1)):\n",
    "            step_output = decoder_outputs[:, t:t+1, :]  # (batch, 1, hidden)\n",
    "            attn_out, attn_weights, coverage_vector = self.attention(\n",
    "                step_output, encoder_outputs, coverage_vector\n",
    "            )\n",
    "            concat_out = torch.cat((step_output, attn_out), dim=-1)\n",
    "            concat_out = torch.tanh(self.concat(concat_out))\n",
    "            attn_outputs.append(concat_out)\n",
    "\n",
    "        # [변경] time dimension으로 합치기\n",
    "        decoder_concat_output = torch.cat(attn_outputs, dim=1)\n",
    "\n",
    "\n",
    "        # # 어텐션 적용\n",
    "        # attn_out = self.attention(decoder_outputs, encoder_outputs)\n",
    "\n",
    "        # # 어텐션 결과와 디코더 출력 연결\n",
    "        # decoder_concat_output = torch.cat((decoder_outputs, attn_out), dim=-1)\n",
    "\n",
    "        # # 어텐션 결합 후 최종 출력\n",
    "        # decoder_concat_output = torch.tanh(self.concat(decoder_concat_output))\n",
    "       \n",
    "        \n",
    "        \n",
    "        output = self.output_layer(decoder_concat_output)\n",
    "\n",
    "        return output\n",
    "\n",
    "# 모델 생성\n",
    "model = Seq2SeqWithAttention(encoder, decoder, tar_vocab_size, hidden_size)\n",
    "print(model)"
   ]
  },
  {
   "cell_type": "code",
   "execution_count": 54,
   "id": "90800858-ecc9-4253-81be-a766f1130787",
   "metadata": {},
   "outputs": [],
   "source": [
    "# 9. 모델 훈련하기\n"
   ]
  },
  {
   "cell_type": "code",
   "execution_count": 55,
   "id": "7f63a1bd-195e-4bc7-98c2-93090218019f",
   "metadata": {},
   "outputs": [
    {
     "name": "stdout",
     "output_type": "stream",
     "text": [
      "Using device: cuda\n"
     ]
    }
   ],
   "source": [
    "import torch.optim as optim\n",
    "from torch.utils.data import DataLoader, TensorDataset\n",
    "from tqdm import tqdm\n",
    "\n",
    "device = torch.device(\"cuda\" if torch.cuda.is_available() else \"cpu\")\n",
    "print(f\"Using device: {device}\")\n",
    "model.to(device)\n",
    "\n",
    "# Hyperparameters\n",
    "batch_size = 64\n",
    "epochs = 10\n",
    "learning_rate = 0.001 \n",
    "patience = 3\n",
    "\n",
    "# 손실 함수 & 옵티마이저\n",
    "criterion = nn.CrossEntropyLoss(ignore_index=0)  # 패딩 토큰 무시\n",
    "optimizer = optim.AdamW(model.parameters(), lr=learning_rate)\n",
    "\n",
    "# PyTorch DataLoader 설정\n",
    "train_dataset = TensorDataset(encoder_input_train, decoder_input_train, decoder_target_train)\n",
    "test_dataset = TensorDataset(encoder_input_test, decoder_input_test, decoder_target_test)\n",
    "\n",
    "train_loader = DataLoader(train_dataset, batch_size=batch_size, shuffle=True)\n",
    "test_loader = DataLoader(test_dataset, batch_size=batch_size, shuffle=False)"
   ]
  },
  {
   "cell_type": "code",
   "execution_count": 56,
   "id": "7089882f-b109-47f0-9420-1b9f470707ed",
   "metadata": {},
   "outputs": [],
   "source": [
    "train_losses = []\n",
    "val_losses = []\n",
    "\n",
    "# 학습 함수\n",
    "def train_model(model, train_loader, test_loader, criterion, optimizer, epochs, patience):\n",
    "    model.train()\n",
    "    best_val_loss = float('inf')\n",
    "    early_stop_counter = 0\n",
    "\n",
    "    for epoch in range(epochs):\n",
    "        total_loss = 0\n",
    "\n",
    "        for encoder_input, decoder_input, target in tqdm(train_loader, desc=f\"Epoch {epoch+1}/{epochs} [Train]\"):\n",
    "            optimizer.zero_grad()\n",
    "\n",
    "            # 정수형 변환\n",
    "            encoder_input = encoder_input.to(device).long()\n",
    "            decoder_input = decoder_input.to(device).long()\n",
    "            target = target.to(device).long()\n",
    "\n",
    "            # 모델 실행\n",
    "            output = model(encoder_input, decoder_input)\n",
    "            output = output.view(-1, output.shape[-1])\n",
    "            target = target.view(-1)\n",
    "\n",
    "            loss = criterion(output, target)\n",
    "            loss.backward()\n",
    "            optimizer.step()\n",
    "            total_loss += loss.item()\n",
    "\n",
    "        avg_loss = total_loss / len(train_loader)\n",
    "        train_losses.append(avg_loss)\n",
    "\n",
    "        # Validation loss 계산\n",
    "        model.eval()\n",
    "        val_loss = 0\n",
    "        with torch.no_grad():\n",
    "            for encoder_input, decoder_input, target in tqdm(test_loader, desc=f\"Epoch {epoch+1}/{epochs} [Validation]\"):\n",
    "                encoder_input = encoder_input.to(device).long()\n",
    "                decoder_input = decoder_input.to(device).long()\n",
    "                target = target.to(device).long()\n",
    "\n",
    "                output = model(encoder_input, decoder_input)\n",
    "                output = output.view(-1, output.shape[-1])\n",
    "                target = target.view(-1)\n",
    "                loss = criterion(output, target)\n",
    "\n",
    "                val_loss += loss.item()\n",
    "\n",
    "        val_loss /= len(test_loader)\n",
    "        val_losses.append(val_loss)\n",
    "        print(f\"Epoch {epoch+1}/{epochs} | Train Loss: {avg_loss:.4f} | Val Loss: {val_loss:.4f}\")\n",
    "\n",
    "        # Early Stopping 조건\n",
    "        if val_loss < best_val_loss:\n",
    "            best_val_loss = val_loss\n",
    "            early_stop_counter = 0\n",
    "        else:\n",
    "            early_stop_counter += 1\n",
    "\n",
    "        if early_stop_counter >= patience:\n",
    "            print(f\"Early stopping triggered at epoch {epoch+1}\")\n",
    "            break\n",
    "\n",
    "        model.train()"
   ]
  },
  {
   "cell_type": "code",
   "execution_count": 57,
   "id": "595d6409-ecb6-482d-b68c-88d81aee8f4e",
   "metadata": {},
   "outputs": [
    {
     "name": "stderr",
     "output_type": "stream",
     "text": [
      "Epoch 1/10 [Train]: 100%|██████████| 1230/1230 [01:01<00:00, 19.91it/s]\n",
      "Epoch 1/10 [Validation]: 100%|██████████| 308/308 [00:04<00:00, 62.41it/s]\n"
     ]
    },
    {
     "name": "stdout",
     "output_type": "stream",
     "text": [
      "Epoch 1/10 | Train Loss: 6.8337 | Val Loss: 6.3775\n"
     ]
    },
    {
     "name": "stderr",
     "output_type": "stream",
     "text": [
      "Epoch 2/10 [Train]: 100%|██████████| 1230/1230 [01:02<00:00, 19.60it/s]\n",
      "Epoch 2/10 [Validation]: 100%|██████████| 308/308 [00:04<00:00, 63.51it/s]\n"
     ]
    },
    {
     "name": "stdout",
     "output_type": "stream",
     "text": [
      "Epoch 2/10 | Train Loss: 6.2087 | Val Loss: 5.8236\n"
     ]
    },
    {
     "name": "stderr",
     "output_type": "stream",
     "text": [
      "Epoch 3/10 [Train]: 100%|██████████| 1230/1230 [01:02<00:00, 19.54it/s]\n",
      "Epoch 3/10 [Validation]: 100%|██████████| 308/308 [00:04<00:00, 62.92it/s]\n"
     ]
    },
    {
     "name": "stdout",
     "output_type": "stream",
     "text": [
      "Epoch 3/10 | Train Loss: 5.4838 | Val Loss: 5.1550\n"
     ]
    },
    {
     "name": "stderr",
     "output_type": "stream",
     "text": [
      "Epoch 4/10 [Train]: 100%|██████████| 1230/1230 [01:02<00:00, 19.56it/s]\n",
      "Epoch 4/10 [Validation]: 100%|██████████| 308/308 [00:04<00:00, 62.86it/s]\n"
     ]
    },
    {
     "name": "stdout",
     "output_type": "stream",
     "text": [
      "Epoch 4/10 | Train Loss: 4.8666 | Val Loss: 4.7112\n"
     ]
    },
    {
     "name": "stderr",
     "output_type": "stream",
     "text": [
      "Epoch 5/10 [Train]: 100%|██████████| 1230/1230 [01:02<00:00, 19.59it/s]\n",
      "Epoch 5/10 [Validation]: 100%|██████████| 308/308 [00:04<00:00, 63.35it/s]\n"
     ]
    },
    {
     "name": "stdout",
     "output_type": "stream",
     "text": [
      "Epoch 5/10 | Train Loss: 4.4020 | Val Loss: 4.3968\n"
     ]
    },
    {
     "name": "stderr",
     "output_type": "stream",
     "text": [
      "Epoch 6/10 [Train]: 100%|██████████| 1230/1230 [01:02<00:00, 19.63it/s]\n",
      "Epoch 6/10 [Validation]: 100%|██████████| 308/308 [00:04<00:00, 63.46it/s]\n"
     ]
    },
    {
     "name": "stdout",
     "output_type": "stream",
     "text": [
      "Epoch 6/10 | Train Loss: 4.0424 | Val Loss: 4.1739\n"
     ]
    },
    {
     "name": "stderr",
     "output_type": "stream",
     "text": [
      "Epoch 7/10 [Train]: 100%|██████████| 1230/1230 [01:02<00:00, 19.60it/s]\n",
      "Epoch 7/10 [Validation]: 100%|██████████| 308/308 [00:04<00:00, 63.18it/s]\n"
     ]
    },
    {
     "name": "stdout",
     "output_type": "stream",
     "text": [
      "Epoch 7/10 | Train Loss: 3.7519 | Val Loss: 4.0174\n"
     ]
    },
    {
     "name": "stderr",
     "output_type": "stream",
     "text": [
      "Epoch 8/10 [Train]: 100%|██████████| 1230/1230 [01:02<00:00, 19.62it/s]\n",
      "Epoch 8/10 [Validation]: 100%|██████████| 308/308 [00:04<00:00, 62.84it/s]\n"
     ]
    },
    {
     "name": "stdout",
     "output_type": "stream",
     "text": [
      "Epoch 8/10 | Train Loss: 3.5114 | Val Loss: 3.8937\n"
     ]
    },
    {
     "name": "stderr",
     "output_type": "stream",
     "text": [
      "Epoch 9/10 [Train]: 100%|██████████| 1230/1230 [01:02<00:00, 19.61it/s]\n",
      "Epoch 9/10 [Validation]: 100%|██████████| 308/308 [00:04<00:00, 63.11it/s]\n"
     ]
    },
    {
     "name": "stdout",
     "output_type": "stream",
     "text": [
      "Epoch 9/10 | Train Loss: 3.3080 | Val Loss: 3.8065\n"
     ]
    },
    {
     "name": "stderr",
     "output_type": "stream",
     "text": [
      "Epoch 10/10 [Train]: 100%|██████████| 1230/1230 [01:02<00:00, 19.61it/s]\n",
      "Epoch 10/10 [Validation]: 100%|██████████| 308/308 [00:04<00:00, 63.28it/s]"
     ]
    },
    {
     "name": "stdout",
     "output_type": "stream",
     "text": [
      "Epoch 10/10 | Train Loss: 3.1335 | Val Loss: 3.7351\n",
      "CPU times: user 11min 14s, sys: 2.92 s, total: 11min 17s\n",
      "Wall time: 11min 15s\n"
     ]
    },
    {
     "name": "stderr",
     "output_type": "stream",
     "text": [
      "\n"
     ]
    }
   ],
   "source": [
    "%%time\n",
    "# 30분 이상 시간이 걸릴 수 있습니다. GPU 환경에서 학습하는 것을 권장합니다.\n",
    "# 학습 실행\n",
    "train_model(model, train_loader, test_loader, criterion, optimizer, epochs=epochs, patience=patience)"
   ]
  },
  {
   "cell_type": "code",
   "execution_count": 58,
   "id": "c7999a92-26ec-4094-b395-f959db4a8057",
   "metadata": {},
   "outputs": [],
   "source": [
    "#시각화"
   ]
  },
  {
   "cell_type": "code",
   "execution_count": 59,
   "id": "82930319-ed97-4fee-9518-f794a2b4976e",
   "metadata": {},
   "outputs": [
    {
     "data": {
      "image/png": "[encoded data removed]",
      "text/plain": [
       "<Figure size 640x480 with 1 Axes>"
      ]
     },
     "metadata": {},
     "output_type": "display_data"
    }
   ],
   "source": [
    "plt.plot(range(len(train_losses)), train_losses, label='Train Loss')\n",
    "plt.plot(range(len(val_losses)), val_losses, label='Validation Loss')\n",
    "plt.legend()\n",
    "plt.xlabel(\"Epochs\")\n",
    "plt.ylabel(\"Loss\")\n",
    "plt.title(\"Training and Validation Loss\")\n",
    "plt.show()"
   ]
  },
  {
   "cell_type": "code",
   "execution_count": 60,
   "id": "381bf66e-5940-40d6-ac55-9d3298b8c7b7",
   "metadata": {},
   "outputs": [],
   "source": [
    "# 10. 인퍼런스 모델 구현하기\n",
    "# 테스트 단계에서는 정수 인덱스 행렬로 존재하던 텍스트 데이터를 실제 데이터로 복원해야 하므로, \n",
    "# 필요한 3개의 사전을 아래와 같이 미리 준비해 둡니다."
   ]
  },
  {
   "cell_type": "code",
   "execution_count": 61,
   "id": "bf68d0cd-501e-4df4-bc8c-22eba2defdfc",
   "metadata": {},
   "outputs": [
    {
     "name": "stdout",
     "output_type": "stream",
     "text": [
      "=3\n"
     ]
    }
   ],
   "source": [
    "src_index_to_word = {idx: word for word, idx in src_vocab.items()} # 원문 단어 집합에서 정수 -> 단어를 얻음\n",
    "tar_word_to_index = tar_vocab # 요약 단어 집합에서 단어 -> 정수를 얻음\n",
    "tar_index_to_word = {idx: word for word, idx in tar_vocab.items()} # 요약 단어 집합에서 정수 -> 단어를 얻음\n",
    "\n",
    "print('=3')"
   ]
  },
  {
   "cell_type": "code",
   "execution_count": 62,
   "id": "a1b60316-ebf5-4f03-b6d3-2fcb58ae65e9",
   "metadata": {},
   "outputs": [],
   "source": [
    "# seq2seq는 훈련할 때와 실제 동작할 때(인퍼런스 단계)의 방식이 다름 \n",
    "#따라서 모델 설계를 별개로 진행해야 함\n",
    "\n",
    "# 훈련 단계에서는 디코더의 입력부에 정답이 되는 문장 전체를 한꺼번에 넣고 디코더의 출력과 한 번에 비교할 수 있으므로, \n",
    "# 인코더와 디코더를 엮은 통짜 모델 하나만 필요.\n",
    "\n",
    "# 그러나 정답 문장이 없는 인퍼런스 단계에서는 만들어야 할 문장의 길이만큼 디코더가 반복 구조로 동작해야 하기 때문에 \n",
    "# 인퍼런스를 위한 모델 설계를 별도로 해줌. \n",
    "# 이때는 인코더 모델과 디코더 모델을 분리해서 설계."
   ]
  },
  {
   "cell_type": "code",
   "execution_count": 65,
   "id": "254a6552-9a88-4c05-80a7-e7a04054d1f8",
   "metadata": {},
   "outputs": [
    {
     "name": "stdout",
     "output_type": "stream",
     "text": [
      "=3\n"
     ]
    }
   ],
   "source": [
    "device = torch.device(\"cuda\" if torch.cuda.is_available() else \"cpu\")\n",
    "decoder.to(device)\n",
    "\n",
    "# 인코더 설계\n",
    "def encode_input(encoder, input_seq):\n",
    "    encoder_outputs, hidden, cell = encoder(input_seq)\n",
    "    return encoder_outputs, hidden, cell\n",
    "\n",
    "# 이전 시점의 상태들을 저장하는 텐서\n",
    "num_layers = 3  # 디코더 LSTM 레이어 개수 (설정에 맞춰 조정)\n",
    "batch_size = 1\n",
    "\n",
    "decoder_state_input_h = torch.zeros((num_layers, batch_size, hidden_size), dtype=torch.float, device=device)\n",
    "decoder_state_input_c = torch.zeros((num_layers, batch_size, hidden_size), dtype=torch.float, device=device)\n",
    "decoder_input = torch.zeros((batch_size, 1), dtype=torch.long, device=device)\n",
    "\n",
    "dec_emb2 = decoder.embedding(decoder_input)\n",
    "\n",
    "# 문장의 다음 단어를 예측하기 위해서 초기 상태(initial_state)를 이전 시점의 상태로 사용. 이는 뒤의 함수 decode_sequence()에 구현\n",
    "# 훈련 과정에서와 달리 LSTM의 리턴하는 은닉 상태와 셀 상태인 state_h와 state_c를 버리지 않음.\n",
    "decoder_outputs2, state_h2, state_c2 = decoder(decoder_input, decoder_state_input_h, decoder_state_input_c)\n",
    "\n",
    "print('=3')"
   ]
  },
  {
   "cell_type": "code",
   "execution_count": 67,
   "id": "e86d55cc-2bcd-422d-b071-80e38f12d1b9",
   "metadata": {},
   "outputs": [
    {
     "name": "stdout",
     "output_type": "stream",
     "text": [
      "=3\n"
     ]
    }
   ],
   "source": [
    "# 어텐션 메커니즘을 사용하는 출력층을 설계\n",
    "\n",
    "class DecoderWithAttention(nn.Module):\n",
    "    def __init__(self, decoder, attention, hidden_size, vocab_size):\n",
    "        super(DecoderWithAttention, self).__init__()\n",
    "        self.decoder = decoder  # 기존 디코더\n",
    "        self.attention = attention  # 어텐션 레이어\n",
    "        self.concat = nn.Linear(hidden_size * 2, hidden_size)  # 어텐션 결합 레이어\n",
    "        self.output_layer = nn.Linear(hidden_size, vocab_size)  # 최종 출력층\n",
    "        self.softmax = nn.Softmax(dim=-1)  # 소프트맥스\n",
    "\n",
    "    def forward(self, decoder_inputs, decoder_hidden_state, decoder_state_h, decoder_state_c):\n",
    "        # 디코더 실행\n",
    "        decoder_outputs, state_h, state_c = self.decoder(decoder_inputs, decoder_state_h, decoder_state_c)\n",
    "\n",
    "        # 어텐션 적용\n",
    "        attn_out = self.attention(decoder_outputs, decoder_hidden_state)\n",
    "\n",
    "        # 어텐션과 디코더 출력 결합\n",
    "        decoder_concat_output = torch.cat((decoder_outputs, attn_out), dim=-1)\n",
    "        decoder_concat_output = torch.tanh(self.concat(decoder_concat_output))\n",
    "\n",
    "        # 최종 출력층 적용\n",
    "        decoder_outputs2 = self.softmax(self.output_layer(decoder_concat_output))\n",
    "\n",
    "        return decoder_outputs2, state_h, state_c\n",
    "\n",
    "# 기존 Attention 클래스 사용\n",
    "attention_layer = Attention_dot_with_coverage(hidden_size)\n",
    "\n",
    "# 디코더 모델 생성\n",
    "decoder_model = DecoderWithAttention(decoder, attention_layer, hidden_size, tar_vocab_size)\n",
    "print('=3')"
   ]
  },
  {
   "cell_type": "code",
   "execution_count": 68,
   "id": "d591a0f5-b6bf-409f-8e44-fde064f6bb5b",
   "metadata": {},
   "outputs": [
    {
     "name": "stdout",
     "output_type": "stream",
     "text": [
      "=3\n"
     ]
    }
   ],
   "source": [
    "# 인퍼런스 단계에서 단어 시퀀스를 완성하는 함수\n",
    "\n",
    "# 주요 변경점 요약 (기존 코드 대비)\n",
    "# 추가 항목\t코드 위치\t역할\n",
    "# repetition_penalty\t확률 계산 전\t이미 생성한 토큰의 확률을 낮춰 반복 억제\n",
    "# ngram_blocking\t확률 계산 전\t최근 n-gram이 다시 생성되지 않도록 차단\n",
    "# decoded_tokens 리스트\twhile 루프 상단\t반복 방지용 토큰 기록\n",
    "# softmax 적용 시점 조정\tlogits 조정 후\t확률 기반 선택 가능\n",
    "\n",
    "def decode_sequence(input_seq, encoder, decoder, tar_word_to_index, tar_index_to_word,\n",
    "                    text_max_len, headlines_max_len, device,\n",
    "                    repetition_penalty=1.2, ngram_block=3): #@\n",
    "    # 입력을 PyTorch Tensor로 변환\n",
    "    if not isinstance(input_seq, torch.Tensor):\n",
    "        input_seq = torch.tensor(input_seq, dtype=torch.long, device=device)\n",
    "    else:\n",
    "        input_seq = input_seq.clone().detach().to(device)\n",
    "\n",
    "    # 인코더 실행하여 초기 상태(hidden, cell) 얻기\n",
    "    with torch.no_grad():\n",
    "        e_out, e_h, e_c = encoder(input_seq)\n",
    "\n",
    "    e_out = e_out.repeat(1, text_max_len, 1) \n",
    "\n",
    "    # <SOS>에 해당하는 토큰 생성\n",
    "    target_seq = torch.zeros((1, 1), dtype=torch.long, device=device)\n",
    "    target_seq[0, 0] = tar_word_to_index['sostoken']\n",
    "\n",
    "    stop_condition = False\n",
    "    decoded_sentence = \"\"   # ✅ 초기화\n",
    "    decoded_tokens = []  # 🔹 토큰 리스트 (반복 체크용)\n",
    "    \n",
    "    #decoded_sentence = ''\n",
    "\n",
    "    while not stop_condition:\n",
    "        # 디코더 실행\n",
    "        with torch.no_grad(): \n",
    "            output_tokens, h, c = decoder(target_seq, e_h, e_c)\n",
    "\n",
    "        # repetition penalty 적용\n",
    "        for token_id in set(decoded_tokens):\n",
    "            output_tokens[0, -1, token_id] /= repetition_penalty\n",
    "\n",
    "        # n-gram blocking 적용\n",
    "        if len(decoded_tokens) >= ngram_block:\n",
    "            ngram = tuple(decoded_tokens[-(ngram_block - 1):])\n",
    "            for idx in range(output_tokens.size(-1)):\n",
    "                if tuple(list(ngram) + [idx]) in [tuple(decoded_tokens[i:i+ngram_block]) for i in range(len(decoded_tokens)-ngram_block+1)]:\n",
    "                    output_tokens[0, -1, idx] = -float(\"inf\")\n",
    "\n",
    "        sampled_token_index = torch.argmax(output_tokens[0, -1, :]).item()\n",
    "        sampled_token = tar_index_to_word[sampled_token_index]\n",
    "\n",
    "        if sampled_token != 'eostoken':\n",
    "            #decoded_sentence += ' ' + sampled_token\n",
    "            decoded_tokens.append(sampled_token_index)\n",
    "\n",
    "        # 종료 조건: <eos>에 도달하거나 최대 길이를 초과하면 중단\n",
    "        if sampled_token != 'eostoken':\n",
    "            decoded_sentence += ' ' + sampled_token\n",
    "\n",
    "        decoded_tokens.append(sampled_token_index)\n",
    "\n",
    "        if sampled_token == 'eostoken' or len(decoded_sentence.split()) >= (headlines_max_len - 1):\n",
    "            stop_condition = True\n",
    "\n",
    "        target_seq = torch.zeros((1, 1), dtype=torch.long, device=device)\n",
    "        target_seq[0, 0] = sampled_token_index\n",
    "\n",
    "        e_h, e_c = h, c\n",
    "\n",
    "    return decoded_sentence.strip()\n",
    "print(\"=3\")"
   ]
  },
  {
   "cell_type": "code",
   "execution_count": 69,
   "id": "9de8687f-584f-47b7-90d3-886e553e6548",
   "metadata": {},
   "outputs": [],
   "source": [
    "# 11. 모델 테스트\n",
    "# 테스트 단계에서는 정수 시퀀스를 텍스트 시퀀스로 변환하여 결과를 확인\n",
    "# 정수 시퀀스를 텍스트 시퀀스로 변환하는 함수 필요\n",
    "\n",
    "# 함수를 만들 때, Text의 정수 시퀀스에서는 패딩을 위해 사용되는 숫자 0을 제외하고 \n",
    "#headlines의 정수 시퀀스에서는 숫자 0, 시작 토큰의 인덱스, 종료 토큰의 인덱스를 출력에서 제외.\n"
   ]
  },
  {
   "cell_type": "code",
   "execution_count": 70,
   "id": "1b0692bc-e319-45e1-9386-d22c38ec7662",
   "metadata": {},
   "outputs": [
    {
     "name": "stdout",
     "output_type": "stream",
     "text": [
      "=3\n"
     ]
    }
   ],
   "source": [
    "# 원문의 정수 시퀀스를 텍스트 시퀀스로 변환\n",
    "def seq2text(input_seq):\n",
    "    temp = ''\n",
    "    for i in input_seq:\n",
    "        key = int(i.item())  # PyTorch Tensor → int 변환\n",
    "        if key != 0:  # 패딩(0) 제외\n",
    "            temp = temp + src_index_to_word.get(key, \"<UNK>\") + ' '  # 안전한 조회\n",
    "    return temp.strip()\n",
    "\n",
    "# 요약문의 정수 시퀀스를 텍스트 시퀀스로 변환\n",
    "def seq2headlines(input_seq):\n",
    "    temp = ''\n",
    "    for i in input_seq:\n",
    "        key = int(i.item())  # PyTorch Tensor → int 변환\n",
    "        if key != 0 and key != tar_word_to_index['sostoken'] and key != tar_word_to_index['eostoken']:\n",
    "            temp = temp + tar_index_to_word.get(key, \"<UNK>\") + ' '  # 안전한 조회\n",
    "    return temp.strip()  # 양쪽 공백 제거\n",
    "\n",
    "print('=3')"
   ]
  },
  {
   "cell_type": "code",
   "execution_count": 71,
   "id": "5cd64987-3be7-4395-9477-e1dd51bd897d",
   "metadata": {},
   "outputs": [],
   "source": [
    "# 테스트 데이터 약 50개의 샘플에 대해서 실제 요약과 예측된 요약을 비교\n"
   ]
  },
  {
   "cell_type": "code",
   "execution_count": 72,
   "id": "350d8431-5b9a-4527-ba71-856d47adc88a",
   "metadata": {},
   "outputs": [
    {
     "name": "stdout",
     "output_type": "stream",
     "text": [
      "원문 : dutch product designer <UNK> van <UNK> startup living light has created a lamp that is powered with the help of the <UNK> process of a plant the lamp can produce up to 0 1 mw by harvesting energy from electrons released by bacteria in the soil due to photosynthesis further the longevity of light depends on the well being of the plant\n",
      "실제 요약 : dutch startup makes <UNK> powered by plants\n",
      "예측 요약 : 10 show sexual woman without last take if what school than modi pm team at govt star\n",
      "\n",
      "\n",
      "원문 : residents of chhattisgarh s <UNK> village reportedly have been forced to consume dirty water due to a water crisis emphasising that the village lacks facilities like education water and electricity locals said that the toilets made by the government can t be used due to lack of water residents also said that they have to walk long distances to get drinking water\n",
      "실제 요약 : chhattisgarh villagers forced to drink dirty water amid crisis\n",
      "예측 요약 : under woman without last take film have have test using k death team pm ex star my\n",
      "\n",
      "\n",
      "원문 : three produce company workers have been arrested in california us for theft of up to 1 93 crore worth of avocado fruit all three of them are being held in jail on bail of 1 61 crore each detectives began investigating the suspects in may after receiving a tip that they were conducting unauthorised cash sales of avocados from a <UNK> facility\n",
      "실제 요약 : 3 arrested in us for theft of 1 93 crore worth of <UNK>\n",
      "예측 요약 : 10 show sexual woman 8 last russia without last cm team 100 found after pm\n",
      "\n",
      "\n",
      "원문 : canada based medical marijuana company <UNK> has raised 153 million over 1 050 crore in its initial public offering ipo at us stock market nasdaq founded in 2013 <UNK> sells its products to patients researchers pharmacies and even governments earlier this year canadian firms <UNK> group and canopy growth became first marijuana producers to be listed on nasdaq and nyse respectively\n",
      "실제 요약 : another marijuana company goes public in us raises 153 mn\n",
      "예측 요약 : 10 show sexual woman you 4 shares after what without 8 team report govt pm death korea\n",
      "\n",
      "\n",
      "원문 : a congress leader from uttar pradesh s gorakhpur has initiated various campaigns based on party president rahul gandhi to promote brand rahul since 2014 anwar hussain initiated rahul milk campaign when bjp launched chai pe charcha during the 2014 lok sabha elections for its then pm candidate narendra modi he also served rahul herbal tea outside banks after the 2016 demonetisation\n",
      "실제 요약 : up cong leader starts rahul milk rahul <UNK> tea\n",
      "예측 요약 : last under woman without modi without me player 100 test people govt team ex star\n",
      "\n",
      "\n",
      "CPU times: user 129 ms, sys: 13.1 ms, total: 142 ms\n",
      "Wall time: 142 ms\n"
     ]
    },
    {
     "name": "stderr",
     "output_type": "stream",
     "text": [
      "<timed exec>:4: UserWarning: To copy construct from a tensor, it is recommended to use sourceTensor.detach().clone() or sourceTensor.detach().clone().requires_grad_(True), rather than torch.tensor(sourceTensor).\n"
     ]
    }
   ],
   "source": [
    "%%time\n",
    "for i in range(200, 205):\n",
    "    print(\"원문 :\", seq2text(encoder_input_test[i]))\n",
    "    print(\"실제 요약 :\", seq2headlines(decoder_input_test[i]))\n",
    "    input_seq = torch.tensor(encoder_input_test[i], dtype=torch.long, device=device).unsqueeze(0)\n",
    "    print(\"예측 요약 :\", decode_sequence(input_seq, encoder, decoder, tar_word_to_index, tar_index_to_word, text_max_len, headlines_max_len, device))\n",
    "    print(\"\\n\")"
   ]
  },
  {
   "cell_type": "code",
   "execution_count": null,
   "id": "6cb1ddc9-ad2a-4fd7-bfda-974d99b01854",
   "metadata": {},
   "outputs": [],
   "source": []
  },
  {
   "cell_type": "code",
   "execution_count": 73,
   "id": "25e2b186-cb73-4680-ae87-f6b4ada6381e",
   "metadata": {},
   "outputs": [],
   "source": [
    "# 추출적 요약 해보기\n",
    "# 본문에 존재하는 단어구, 문장을 뽑아서 요약으로 삼는 추출적 요약 방법 진행\n",
    "\n",
    "#패키지 Summa의 추출적 요약을 위한 모듈인 summarize 사용\n"
   ]
  },
  {
   "cell_type": "code",
   "execution_count": 74,
   "id": "93168c48-6e8b-485c-a8c0-522aa886380f",
   "metadata": {},
   "outputs": [
    {
     "name": "stdout",
     "output_type": "stream",
     "text": [
      "Requirement already satisfied: summa in /opt/conda/lib/python3.12/site-packages (1.2.0)\n",
      "Requirement already satisfied: scipy>=0.19 in /opt/conda/lib/python3.12/site-packages (from summa) (1.15.2)\n",
      "Requirement already satisfied: numpy<2.5,>=1.23.5 in /opt/conda/lib/python3.12/site-packages (from scipy>=0.19->summa) (2.2.6)\n"
     ]
    }
   ],
   "source": [
    "!pip install summa"
   ]
  },
  {
   "cell_type": "code",
   "execution_count": 75,
   "id": "1c93dd5e-b0c9-43ed-b02c-02d903e71fab",
   "metadata": {},
   "outputs": [
    {
     "name": "stdout",
     "output_type": "stream",
     "text": [
      "\n",
      "--- SAMPLE 1 ---\n",
      "원문 : Saurav Kant, an alumnus of upGrad and IIIT-B's PG Program in Machine learning and Artificial Intelligence, was a Sr Systems Engineer at Infosys with almost 5 years of work experience. The program and upGrad's 360-degree career support helped him transition to a Data Scientist at Tech Mahindra with 90% salary hike. upGrad's Online Power Learning has powered 3 lakh+ careers. ...\n",
      "추출적 요약: upGrad's Online Power Learning has powered 3 lakh+ careers.\n",
      "\n",
      "--- SAMPLE 2 ---\n",
      "원문 : Kunal Shah's credit card bill payment platform, CRED, gave users a chance to win free food from Swiggy for one year. Pranav Kaushik, a Delhi techie, bagged this reward after spending 2000 CRED coins. Users get one CRED coin per rupee of bill paid, which can be used to avail rewards from brands like Ixigo, BookMyShow, UberEats, Cult.Fit and more. ...\n",
      "추출적 요약: Users get one CRED coin per rupee of bill paid, which can be used to avail rewards from brands like Ixigo, BookMyShow, UberEats, Cult.Fit and more.\n",
      "\n",
      "--- SAMPLE 3 ---\n",
      "원문 : New Zealand defeated India by 8 wickets in the fourth ODI at Hamilton on Thursday to win their first match of the five-match ODI series. India lost an international match under Rohit Sharma's captaincy after 12 consecutive victories dating back to March 2018. The match witnessed India getting all out for 92, their seventh lowest total in ODI cricket history. ...\n",
      "추출적 요약: The match witnessed India getting all out for 92, their seventh lowest total in ODI cricket history.\n",
      "\n",
      "--- SAMPLE 4 ---\n",
      "원문 : With Aegon Life iTerm Insurance plan, customers can enjoy tax benefits on your premiums paid and save up to â¹46,800^ on taxes. The plan provides life cover up to the age of 100 years. Also, customers have options to insure against Critical Illnesses, Disability and Accidental Death Benefit Rider with a life cover up to the age of 80 years. ...\n",
      "추출적 요약: Also, customers have options to insure against Critical Illnesses, Disability and Accidental Death Benefit Rider with a life cover up to the age of 80 years.\n",
      "\n",
      "--- SAMPLE 5 ---\n",
      "원문 : Speaking about the sexual harassment allegations against Rajkumar Hirani, Sonam Kapoor said, \"I've known Hirani for many years...What if it's not true, the [#MeToo] movement will get derailed.\" \"In the #MeToo movement, I always believe a woman. But in this case, we need to reserve our judgment,\" she added. Hirani has been accused by an assistant who worked in 'Sanju'. ...\n",
      "추출적 요약: \n"
     ]
    }
   ],
   "source": [
    "from summa.summarizer import summarize\n",
    "import pandas as pd\n",
    "\n",
    "\n",
    "for i in range(5):\n",
    "    original_text = data['text'][i]\n",
    "\n",
    "    # 원문과 요약 결과 출력\n",
    "    print(f\"\\n--- SAMPLE {i+1} ---\")\n",
    "    print(\"원문 :\", original_text[:500], \"...\")\n",
    "    \n",
    "    # 비율(ratio)을 이용한 요약 시도 후, 실패하면 단어 수(words)로 요약\n",
    "    summary = summarize(original_text, ratio=0.01)\n",
    "    if not summary:\n",
    "        summary = summarize(original_text, words=15)\n",
    "        \n",
    "    print(\"추출적 요약:\", summary)"
   ]
  },
  {
   "cell_type": "code",
   "execution_count": 76,
   "id": "0187a78c-28a7-4680-919e-a1797a519340",
   "metadata": {},
   "outputs": [],
   "source": [
    "# summarize 사용하기\n",
    "    # Summa의 summarize()의 인자로 사용되는 값\n",
    "    # text (str) : 요약할 테스트.\n",
    "    # ratio (float, optional) - 요약문에서 원본에서 선택되는 문장 비율. 0~1 사이값\n",
    "    # words (int or None, optional) - 출력에 포함할 단어 수. \n",
    "        #만약, ratio와 함께 두 파라미터가 모두 제공되는 경우 ratio는 무시한다.\n",
    "    # split (bool, optional) - True면 문장 list / False는 조인(join)된 문자열을 반환\n",
    "\n",
    "# Summa의 summarize는 문장 토큰화를 별도로 하지 않더라도 내부적으로 문장 토큰화를 수행\n",
    "# 원문을 바로 입력으로 넣을 수 있음. 비율을 적게 주어서 요약문으로 선택되는 문장의 개수를 줄여볼게요. \n",
    "# 원문의 0.005%만을 출력하도록 설정했어요."
   ]
  },
  {
   "cell_type": "markdown",
   "id": "f94a8e6f-3368-42f9-8998-7f943b7c43dc",
   "metadata": {},
   "source": [
    "[compare]<img width=\"840\" height=\"334\" alt=\"Ex06_0\" src=\"https://github.com/user-attachments/assets/2e93629f-a48c-4217-9495-e2f8c1cd720f\" />"
   ]
  },
  {
   "cell_type": "code",
   "execution_count": null,
   "id": "5ba05d57-947a-4702-9cbb-3aae34b314b0",
   "metadata": {},
   "outputs": [],
   "source": []
  }
 ],
 "metadata": {
  "kernelspec": {
   "display_name": "Python 3 (ipykernel)",
   "language": "python",
   "name": "python3"
  },
  "language_info": {
   "codemirror_mode": {
    "name": "ipython",
    "version": 3
   },
   "file_extension": ".py",
   "mimetype": "text/x-python",
   "name": "python",
   "nbconvert_exporter": "python",
   "pygments_lexer": "ipython3",
   "version": "3.12.11"
  }
 },
 "nbformat": 4,
 "nbformat_minor": 5
}
